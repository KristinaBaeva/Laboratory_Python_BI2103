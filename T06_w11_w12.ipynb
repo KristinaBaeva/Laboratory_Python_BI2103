{
 "cells": [
  {
   "cell_type": "markdown",
   "metadata": {
    "toc": true
   },
   "source": [
    "<h1>Table of Contents<span class=\"tocSkip\"></span></h1>\n",
    "<div class=\"toc\"><ul class=\"toc-item\"><li><span><a href=\"#Обработка-и-анализ-данных-в-Numpy-массивах\" data-toc-modified-id=\"Обработка-и-анализ-данных-в-Numpy-массивах-1\"><span class=\"toc-item-num\">1&nbsp;&nbsp;</span>Обработка и анализ данных в Numpy-массивах</a></span></li></ul></div>"
   ]
  },
  {
   "cell_type": "markdown",
   "metadata": {},
   "source": [
    "\n",
    "\n",
    "\n",
    "# Обработка и анализ данных в Numpy-массивах"
   ]
  },
  {
   "cell_type": "markdown",
   "metadata": {},
   "source": [
    "<p style=\"font-size:125%; color:#119988; background-color:#EEE\">Задание 1</p>\n",
    "\n",
    "Дано: списки `a,b=[1,1,1],[3,3,3]`\n",
    "\n",
    "Создать одномерные массивы A и B из списков а и b.\n",
    "\n",
    "Вычислить выражение $-((B-А)*(B/2))$"
   ]
  },
  {
   "cell_type": "code",
   "execution_count": 6,
   "metadata": {},
   "outputs": [
    {
     "name": "stdout",
     "output_type": "stream",
     "text": [
      "[1 1 1] [3 3 3]\n",
      "(𝐵−А) = [2 2 2]\n",
      "(𝐵/2) = [1.5 1.5 1.5]\n",
      "((𝐵−А)∗(𝐵/2)) = [3. 3. 3.]\n",
      "Ответ:  -9.0\n"
     ]
    }
   ],
   "source": [
    "import numpy as np\n",
    "\n",
    "a = [1, 1, 1]\n",
    "b = [3, 3, 3]\n",
    "A = np.array(a)\n",
    "B = np.array(b)\n",
    "\n",
    "print(A,B) \n",
    "step1 = np.subtract(B,A)\n",
    "print(\"(𝐵−А) =\", step1)\n",
    "\n",
    "step2 = np.divide(B,2)\n",
    "print(\"(𝐵/2) =\", step2)\n",
    "\n",
    "step3 = np.multiply(x1,x3)\n",
    "print(\"((𝐵−А)∗(𝐵/2)) =\", step3)\n",
    "\n",
    "result = step3[0] + step3[1] + step3[2]\n",
    "\n",
    "print(\"Ответ: \", -result)"
   ]
  },
  {
   "cell_type": "markdown",
   "metadata": {},
   "source": [
    "<p style=\"font-size:125%; color:#119988; background-color:#EEE\">Задание 2</p>\n",
    "\n",
    "Используя как можно меньше операций в исходном массиве \"шахматная доска\" np.zeros((8,8)), добиться расстановки кодов \"шахматных фигур\".\n",
    "\n",
    "Ожидаемый результат:\n",
    "```\n",
    "[[-4., -3., -2., -6., -5., -2., -3., -4.],\n",
    " [-1., -1., -1., -1., -1., -1., -1., -1.],\n",
    " [0., 0., 0., 0., 0., 0., 0., 0.],\n",
    " [0., 0., 0., 0., 0., 0., 0., 0.],\n",
    " [0., 0., 0., 0., 0., 0., 0., 0.],\n",
    " [0., 0., 0., 0., 0., 0., 0., 0.],\n",
    " [1., 1., 1., 1., 1., 1., 1., 1.],\n",
    " [4., 3., 2., 6., 5., 2., 3., 4.]]\n",
    " ```"
   ]
  },
  {
   "cell_type": "code",
   "execution_count": 9,
   "metadata": {},
   "outputs": [
    {
     "name": "stdout",
     "output_type": "stream",
     "text": [
      "[[-4. -3. -2. -6. -5. -2. -3. -4.]\n",
      " [-1. -1. -1. -1. -1. -1. -1. -1.]\n",
      " [ 0.  0.  0.  0.  0.  0.  0.  0.]\n",
      " [ 0.  0.  0.  0.  0.  0.  0.  0.]\n",
      " [ 0.  0.  0.  0.  0.  0.  0.  0.]\n",
      " [ 0.  0.  0.  0.  0.  0.  0.  0.]\n",
      " [ 1.  1.  1.  1.  1.  1.  1.  1.]\n",
      " [ 4.  3.  2.  6.  5.  2.  3.  4.]]\n"
     ]
    }
   ],
   "source": [
    "#2. Ваш код здесь\n",
    "\n",
    "A = np.zeros((8,8))\n",
    "\n",
    "A[7] = [4, 3, 2, 6, 5, 2, 3, 4] #заполняем значения доски с нижней стороны\n",
    "A[0] = -A[7] #используем значение A[7] со знаком - с обратной стороны доски\n",
    "A[6] = [1, 1, 1, 1, 1, 1, 1, 1] #тоже самое\n",
    "A[1] = -A[6]\n",
    "\n",
    "print(A)"
   ]
  },
  {
   "cell_type": "markdown",
   "metadata": {},
   "source": [
    "<p style=\"font-size:125%; color:#119988; background-color:#EEE\">Задание 3</p>\n",
    "\n",
    "Средствами NumPy рассчитать произведения четных чисел от 2 до 20 на ближайшие к ним бОльшие нечетные числа"
   ]
  },
  {
   "cell_type": "code",
   "execution_count": 11,
   "metadata": {},
   "outputs": [
    {
     "name": "stdout",
     "output_type": "stream",
     "text": [
      "Четные числа: [ 2  4  6  8 10 12 14 16 18 20]\n",
      "Ближайшие к ним бОльшие нечетные числа: [ 3  5  7  9 11 13 15 17 19 21]\n",
      "Произведения: [  6  20  42  72 110 156 210 272 342 420]\n"
     ]
    }
   ],
   "source": [
    "# 3. Ваш код здесь\n",
    "\n",
    "import numpy as np\n",
    "\n",
    "# Создание массива четных чисел от 2 до 20\n",
    "chetnye = np.arange(2, 21, 2) #Функция numpy.arange(start, stop, step) создает массив значений\n",
    "\n",
    "# Нахождение ближайших к каждому четному числу бОльших нечетных чисел\n",
    "closest_nechentnye = (chetnye //2) * 2 + 1\n",
    "\n",
    "# Рассчет произведений четных чисел на ближайшие к ним бОльшие нечетные числа\n",
    "result = chetnye * closest_nechentnye\n",
    "\n",
    "print(\"Четные числа:\", chetnye)\n",
    "print(\"Ближайшие к ним бОльшие нечетные числа:\", closest_nechentnye)\n",
    "print(\"Произведения:\", result)\n"
   ]
  },
  {
   "cell_type": "markdown",
   "metadata": {},
   "source": [
    "<p style=\"font-size:125%; color:#119988; background-color:#EEE\">Задание 4</p>\n",
    "\n",
    "Сгенерировать двумерный массив *arr* размерности (4, 7), состоящий из случайных действительных чисел, равномерно распределенных в дипазоне от 0 до 20. Нормализовать значения массива так, что после нормализации максимальный элемент масива будет равен 1.0, минимальный 0.0. Значения округлить (с помощью `np.round()`) до четырех десятичных знаков."
   ]
  },
  {
   "cell_type": "code",
   "execution_count": 18,
   "metadata": {},
   "outputs": [
    {
     "name": "stdout",
     "output_type": "stream",
     "text": [
      "До нормализации:\n",
      "\n",
      " [[15.7722794  19.66678347  4.77168615 14.23558793  7.14663153 18.51986518\n",
      "   9.84404436]\n",
      " [17.31967384 11.94693888 17.31257392  9.50548295 14.52862071  7.69896365\n",
      "   6.65396598]\n",
      " [ 1.77244624  1.15090573  9.34973677 14.22913991 15.10426277  9.21596334\n",
      "  13.68141174]\n",
      " [16.91571994 14.24827297  2.02700116  1.37974559  9.69844133 16.43092132\n",
      "  13.19763564]]\n",
      "\n",
      "\n",
      "Формула нормализации: (X - Xmin)/(Xmax - Xmin). Мы вычитаем минимальное значение из каждой записи, а затем делим результат на диапазон. Где диапазон – это разница между максимальным значением и минимальным значением.\n",
      "\n",
      "\n",
      "После нормализации:\n",
      "\n",
      " [[0.7897 1.     0.1956 0.7067 0.3238 0.9381 0.4695]\n",
      " [0.8732 0.5831 0.8729 0.4512 0.7225 0.3536 0.2972]\n",
      " [0.0336 0.     0.4428 0.7063 0.7536 0.4356 0.6767]\n",
      " [0.8514 0.7074 0.0473 0.0124 0.4616 0.8252 0.6506]]\n"
     ]
    }
   ],
   "source": [
    "# 4. Ваш код здесь\n",
    "arr = np.random.uniform(low = 0.0, high = 20.0, size = (4, 7))\n",
    "\n",
    "print(\"До нормализации:\\n\\n\", arr)\n",
    "\n",
    "print(\"\\n\\nФормула нормализации: (X - Xmin)/(Xmax - Xmin). Мы вычитаем минимальное значение из каждой записи, а затем делим результат на диапазон. Где диапазон – это разница между максимальным значением и минимальным значением.\\n\")\n",
    "\n",
    "arr_normalized = (arr - np.min(arr)) / (np.max(arr) - np.min(arr))\n",
    "\n",
    "arr_normalized_rounded = np.round(arr_normalized, decimals = 4)\n",
    "\n",
    "print(\"\\nПосле нормализации:\\n\\n\",arr_normalized_rounded)\n"
   ]
  },
  {
   "cell_type": "markdown",
   "metadata": {},
   "source": [
    "<p style=\"font-size:125%; color:#119988; background-color:#EEE\">Задание 5</p>\n",
    "\n",
    "5. Имеется массив my_array\n",
    "```\n",
    "my_array = np.array([[1,2,3,4,5],\n",
    "                [6,7,8,9,10],\n",
    "                [11,12,13,14,15],\n",
    "                [16,17,18,19,20],\n",
    "                [21,22,23,24,25]])\n",
    "```\n",
    "Напишите код, с помощью которого можно извлечь из него центральный фрагмент размером 3 х 3, с числами 7, 8, 9, 12, 13, 14, 17, 18, 19."
   ]
  },
  {
   "cell_type": "code",
   "execution_count": 22,
   "metadata": {},
   "outputs": [
    {
     "name": "stdout",
     "output_type": "stream",
     "text": [
      "[[ 7.  8.  9.]\n",
      " [12. 13. 14.]\n",
      " [17. 18. 19.]]\n"
     ]
    }
   ],
   "source": [
    "# 5. Ваш код здесь\n",
    "\n",
    "my_array = np.array([[1,2,3,4,5],\n",
    "             [6,7,8,9,10],\n",
    "             [11,12,13,14,15],\n",
    "             [16,17,18,19,20],\n",
    "             [21,22,23,24,25]])\n",
    "\n",
    "final = np.zeros((3,3)) #создаем двумерный массив final нужного нам размера 3x3, заполненного нулями\n",
    "\n",
    "i = 1 #пусть i - нужный нам 1 элемент из верхней строчки массива 3х3, с которого начнём считывать массив. \n",
    "i_arr = 0 #Т.е. когда мы досчитаем до третьего элемента мы с него начнём брать i_arr \n",
    "\n",
    "while i <= 3:\n",
    "    j = 1\n",
    "    j_arr = 0\n",
    "    while j <=3:\n",
    "        final[i_arr][j_arr] = my_array[i][j] #применяем созданный массив на My_array\n",
    "        j += 1\n",
    "        j_arr += 1\n",
    "    i += 1\n",
    "    i_arr += 1\n",
    "    \n",
    "print(final)"
   ]
  },
  {
   "cell_type": "markdown",
   "metadata": {},
   "source": [
    "<p style=\"font-size:125%; color:#119988; background-color:#EEE\">Задание 6</p>\n",
    "\n",
    "Создайте массив *my_sin*, состоящий из синусов элементов массива *my_array*.\n",
    "Посчитайте, чему равна сумма элементов полученного массива. Ответ округлите до\n",
    "трёх цифр после запятой."
   ]
  },
  {
   "cell_type": "code",
   "execution_count": 44,
   "metadata": {},
   "outputs": [
    {
     "name": "stdout",
     "output_type": "stream",
     "text": [
      "Массив my_sin:\n",
      "\n",
      "[[ 0.841  0.909  0.141 -0.757 -0.959]\n",
      " [-0.279  0.657  0.989  0.412 -0.544]\n",
      " [-1.    -0.537  0.42   0.991  0.65 ]\n",
      " [-0.288 -0.961 -0.751  0.15   0.913]\n",
      " [ 0.837 -0.009 -0.846 -0.906 -0.132]]\n",
      "\n",
      "\n",
      "Сумма элементов массива: -0.059\n",
      "\n"
     ]
    }
   ],
   "source": [
    "# 6. Ваш код здесь\n",
    "import numpy as np\n",
    "\n",
    "my_array = np.array([[1,2,3,4,5],\n",
    "             [6,7,8,9,10],\n",
    "             [11,12,13,14,15],\n",
    "             [16,17,18,19,20],\n",
    "             [21,22,23,24,25]])\n",
    "\n",
    "my_sin = np.sin(my_array)\n",
    "my_sin_round = np.round(my_sin, decimals = 3)\n",
    "\n",
    "summa = np.sum(my_sin_round) #используем метод sum\n",
    "\n",
    "print(f\"Массив my_sin:\\n\\n{my_sin_round}\\n\")\n",
    "print(f\"\\nСумма элементов массива: {np.round(summa, 3)}\\n\")"
   ]
  },
  {
   "cell_type": "markdown",
   "metadata": {},
   "source": [
    "<p style=\"font-size:125%; color:#119988; background-color:#EEE\">Задание 7</p>\n",
    "\n",
    "Создать матрицу из 20 случайных целых чисел от 0 до 100. Получить второе сверху значение в матрице. Определить индекс этого значения."
   ]
  },
  {
   "cell_type": "code",
   "execution_count": 49,
   "metadata": {},
   "outputs": [
    {
     "name": "stdout",
     "output_type": "stream",
     "text": [
      "[[53 94]\n",
      " [25 47]\n",
      " [31 51]\n",
      " [37 85]\n",
      " [14 96]\n",
      " [47 82]\n",
      " [19 64]\n",
      " [15 84]\n",
      " [61 99]\n",
      " [62 40]]\n",
      "Второе сверху значение в матрице: [94]\n",
      "Индекс этого значения: [(0, 1)]\n"
     ]
    }
   ],
   "source": [
    "# 7. Ваш код здесь\n",
    "from numpy import random\n",
    "import numpy as np\n",
    "\n",
    "arr = random.randint(100, size = (10,2))\n",
    "\n",
    "print(arr)\n",
    "\n",
    "value = arr[0:1, 1]\n",
    "\n",
    "print(\"Второе сверху значение в матрице:\", value)\n",
    "\n",
    "ind = np.where(arr == value)\n",
    "ind = list(zip(ind[0], ind[1]))\n",
    "\n",
    "print(\"Индекс этого значения:\", ind)"
   ]
  },
  {
   "cell_type": "markdown",
   "metadata": {},
   "source": [
    "<p style=\"font-size:125%; color:#119988; background-color:#EEE\">Задание 8</p>\n",
    "\n",
    "Задать два двухмерных массива *ar1* и *ar2* размерности (4, 7), состоящих из случайных целых чисел в пределах от 0 до 10. Построить двухмерный массив размерности (4, 7), каждый элемент которого представляет собой максимум (минимум, среднее) из двух значений, находящихся на аналогичной позиции в массивах *ar1*, *ar2*."
   ]
  },
  {
   "cell_type": "code",
   "execution_count": 18,
   "metadata": {},
   "outputs": [
    {
     "name": "stdout",
     "output_type": "stream",
     "text": [
      "ar1:\n",
      " [[1 0 6 9 9 5 4]\n",
      " [3 1 9 7 4 4 8]\n",
      " [0 2 6 1 9 6 5]\n",
      " [5 4 6 7 1 1 1]]\n",
      "\n",
      "ar2:\n",
      " [[7 4 6 2 9 3 8]\n",
      " [3 3 8 5 4 8 8]\n",
      " [7 8 5 6 1 2 7]\n",
      " [1 6 2 3 0 3 2]]\n",
      "\n",
      "ar3:\n",
      " [[7. 4. 6. 9. 9. 5. 8.]\n",
      " [3. 3. 9. 7. 4. 8. 8.]\n",
      " [7. 8. 6. 6. 9. 6. 7.]\n",
      " [5. 6. 6. 7. 1. 3. 2.]]\n"
     ]
    }
   ],
   "source": [
    "# 8. Ваш код здесь\n",
    "ar1 = random.randint(10, size = (4,7))\n",
    "ar2 = random.randint(10, size = (4,7))\n",
    "\n",
    "print (\"ar1:\\n\", ar1)\n",
    "print (\"\\nar2:\\n\", ar2)\n",
    "\n",
    "ar3 = np.zeros((4,7))\n",
    "\n",
    "print ('')\n",
    "    \n",
    "i = 0\n",
    "while i < 4:\n",
    "    j = 0\n",
    "    while j < 7:\n",
    "        ar3[i][j] = max(ar1[i][j], ar2[i][j])\n",
    "        #ar3[i][j] = min(ar1[i][j],ar2[i][j])\n",
    "        #ar3[i][j] = np.add(ar1[i][j],ar2[i][j])/2\n",
    "        j += 1\n",
    "    i +=1\n",
    "print (\"ar3:\\n\", ar3)"
   ]
  },
  {
   "cell_type": "markdown",
   "metadata": {},
   "source": [
    "<p style=\"font-size:125%; color:#119988; background-color:#EEE\">Задание 9</p>\n",
    "\n",
    "Имеется массив *great_array*\n",
    "```\n",
    "first = [x**(1/2) for x in range(100)]\n",
    "second = [x**(1/3) for x in range(100, 200)]\n",
    "third = [x/y for x in range(200,300,2) for y in [3,5]]\n",
    "great_array = np.array([first, second, third]).T\n",
    "```\n",
    "Чему равна сумма элементов массива great_array, значение которых больше 50?"
   ]
  },
  {
   "cell_type": "code",
   "execution_count": 21,
   "metadata": {
    "scrolled": true
   },
   "outputs": [
    {
     "name": "stdout",
     "output_type": "stream",
     "text": [
      "5470.0\n"
     ]
    }
   ],
   "source": [
    "#9 Ваш код здесь\n",
    "\n",
    "first = [x**(1/2) for x in range(100)]\n",
    "second = [x**(1/3) for x in range(100, 200)]\n",
    "third = [x/y for x in range(200,300,2) for y in [3,5]]\n",
    "great_array = np.array([first, second, third]).T\n",
    "\n",
    "#print(great_array)\n",
    "\n",
    "summ = np.sum(great_array[great_array > 50])\n",
    "print(summ)\n",
    "\n"
   ]
  },
  {
   "cell_type": "markdown",
   "metadata": {},
   "source": [
    "Вычисляется сумма всех элементов в great_array больших чем 50 с помощью np.sum(great_array[great_array > 50]). Функция great_array > 50 создает маску, содержащую значения True для элементов больших чем 50, после чего np.sum используется для вычисления суммы всех таких элементов."
   ]
  },
  {
   "cell_type": "markdown",
   "metadata": {},
   "source": [
    "<p style=\"font-size:125%; color:#119988; background-color:#EEE\">Задание 10</p>\n",
    "\n",
    "Переведите массив *great_array* в одномерную форму. Какое значение в получившемся массиве имеет элемент с индексом 150?"
   ]
  },
  {
   "cell_type": "code",
   "execution_count": 24,
   "metadata": {},
   "outputs": [
    {
     "name": "stdout",
     "output_type": "stream",
     "text": [
      "Элемент с индексом 150 равен 7.0710678118654755\n"
     ]
    }
   ],
   "source": [
    "# 10. Ваш код здесь\n",
    "\n",
    "flattened_arr = great_array.flatten() #Эта функция принимает двумерный массив в качестве аргумента и возвращает его в виде одномерного массива.\n",
    "\n",
    "print(\"Элемент с индексом 150 равен\", flattened_arr[150])"
   ]
  },
  {
   "cell_type": "markdown",
   "metadata": {},
   "source": [
    "<p style=\"font-size:125%; color:#119988; background-color:#EEE\">Задание 11</p>\n",
    "\n",
    "Получить индексы, для которых элементы массивов A и B совпадают.\n",
    "```\n",
    "A = np.array([1,2,3,2,3,4,3,4,5,6])\n",
    "B = np.array([7,2,10,2,7,4,9,4,9,8])\n",
    "```\n",
    "Ожидается результат:\n",
    "\n",
    "```\n",
    "array([1, 3, 5, 7])\n",
    "```"
   ]
  },
  {
   "cell_type": "code",
   "execution_count": 25,
   "metadata": {},
   "outputs": [
    {
     "name": "stdout",
     "output_type": "stream",
     "text": [
      "[1 3 5 7]\n"
     ]
    }
   ],
   "source": [
    "# 11.\n",
    "\n",
    "A = np.array([1,2,3,2,3,4,3,4,5,6])\n",
    "B = np.array([7,2,10,2,7,4,9,4,9,8])\n",
    "\n",
    "# Ваш код здесь\n",
    "\n",
    "array = np.where(A == B)[0]\n",
    "print(array)\n"
   ]
  },
  {
   "cell_type": "markdown",
   "metadata": {},
   "source": [
    "<p style=\"font-size:125%; color:#119988; background-color:#EEE\">Задание 12</p>\n",
    "\n",
    "Создайте три массива: массив четных чисел от 2 до 20, массив ближайших к числам первого массива бОльших нечётных чисел, массив векторного произведения первого массива на второй. Соедините все массивы в один двумерный массив, расположив исходные массивы в столбцах."
   ]
  },
  {
   "cell_type": "code",
   "execution_count": 31,
   "metadata": {},
   "outputs": [
    {
     "name": "stdout",
     "output_type": "stream",
     "text": [
      "[[  2   3   6]\n",
      " [  4   5  20]\n",
      " [  6   7  42]\n",
      " [  8   9  72]\n",
      " [ 10  11 110]\n",
      " [ 12  13 156]\n",
      " [ 14  15 210]\n",
      " [ 16  17 272]\n",
      " [ 18  19 342]\n",
      " [ 20  21 420]]\n"
     ]
    }
   ],
   "source": [
    "# 12.  Ваш код здесь\n",
    "\n",
    "import numpy as np\n",
    "\n",
    "# Создание массива четных чисел от 2 до 20\n",
    "chetnye = np.arange(2, 21, 2) #Функция numpy.arange(start, stop, step) создает массив значений\n",
    "\n",
    "# Создание массива ближайших к каждому четному числу бОльших нечетных чисел\n",
    "nechentnye = (chetnye//2) * 2 + 1\n",
    "\n",
    "proizvedenie = np.multiply(chetnye, nechentnye)\n",
    "\n",
    "result = np.column_stack((chetnye, nechentnye, proizvedenie))\n",
    "\n",
    "print (result)"
   ]
  }
 ],
 "metadata": {
  "kernelspec": {
   "display_name": "Python 3 (ipykernel)",
   "language": "python",
   "name": "python3"
  },
  "language_info": {
   "codemirror_mode": {
    "name": "ipython",
    "version": 3
   },
   "file_extension": ".py",
   "mimetype": "text/x-python",
   "name": "python",
   "nbconvert_exporter": "python",
   "pygments_lexer": "ipython3",
   "version": "3.11.4"
  },
  "toc": {
   "base_numbering": 1,
   "nav_menu": {},
   "number_sections": true,
   "sideBar": true,
   "skip_h1_title": false,
   "title_cell": "Table of Contents",
   "title_sidebar": "Contents",
   "toc_cell": true,
   "toc_position": {},
   "toc_section_display": true,
   "toc_window_display": false
  },
  "varInspector": {
   "cols": {
    "lenName": 16,
    "lenType": 16,
    "lenVar": 40
   },
   "kernels_config": {
    "python": {
     "delete_cmd_postfix": "",
     "delete_cmd_prefix": "del ",
     "library": "var_list.py",
     "varRefreshCmd": "print(var_dic_list())"
    },
    "r": {
     "delete_cmd_postfix": ") ",
     "delete_cmd_prefix": "rm(",
     "library": "var_list.r",
     "varRefreshCmd": "cat(var_dic_list()) "
    }
   },
   "types_to_exclude": [
    "module",
    "function",
    "builtin_function_or_method",
    "instance",
    "_Feature"
   ],
   "window_display": false
  }
 },
 "nbformat": 4,
 "nbformat_minor": 4
}
