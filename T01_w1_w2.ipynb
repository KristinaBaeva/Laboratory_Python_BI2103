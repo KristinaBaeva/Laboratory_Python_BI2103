{
 "cells": [
  {
   "cell_type": "markdown",
   "metadata": {
    "toc": true
   },
   "source": [
    "<h1>Table of Contents<span class=\"tocSkip\"></span></h1>\n",
    "<div class=\"toc\"><ul class=\"toc-item\"><li><span><a href=\"#Тема-1.-Введение-в-программирование-на-языке-Python\" data-toc-modified-id=\"Тема-1.-Введение-в-программирование-на-языке-Python-1\"><span class=\"toc-item-num\">1&nbsp;&nbsp;</span>Тема 1. Введение в программирование на языке Python</a></span></li><li><span><a href=\"#Задания\" data-toc-modified-id=\"Задания-2\"><span class=\"toc-item-num\">2&nbsp;&nbsp;</span>Задания</a></span></li><li><span><a href=\"#1.-Числовые-и-строковые-типы-данных-языка-Python.-Управляющие-конструкции.\" data-toc-modified-id=\"1.-Числовые-и-строковые-типы-данных-языка-Python.-Управляющие-конструкции.-3\"><span class=\"toc-item-num\">3&nbsp;&nbsp;</span>1. Числовые и строковые типы данных языка Python. Управляющие конструкции.</a></span><ul class=\"toc-item\"><li><span><a href=\"#1.1.-Работа-с-числами.-Базовые-числовые-типы-int-и-float\" data-toc-modified-id=\"1.1.-Работа-с-числами.-Базовые-числовые-типы-int-и-float-3.1\"><span class=\"toc-item-num\">3.1&nbsp;&nbsp;</span>1.1. Работа с числами. Базовые числовые типы int и float</a></span></li><li><span><a href=\"#1.2.-Строки,-функции-и-методы-работы-со-строками\" data-toc-modified-id=\"1.2.-Строки,-функции-и-методы-работы-со-строками-3.2\"><span class=\"toc-item-num\">3.2&nbsp;&nbsp;</span>1.2. Строки, функции и методы работы со строками</a></span></li></ul></li></ul></div>"
   ]
  },
  {
   "cell_type": "markdown",
   "metadata": {},
   "source": [
    "\n",
    "# Тема 1. Введение в программирование на языке Python"
   ]
  },
  {
   "cell_type": "markdown",
   "metadata": {},
   "source": [
    "# Задания\n",
    "\n",
    "Выполните задания\n",
    "\n",
    "# 1. Числовые и строковые типы данных языка Python. Управляющие конструкции.\n",
    "\n",
    "## 1.1. Работа с числами. Базовые числовые типы int и float\n",
    "\n",
    "1. Значения переменных А и В ввести с клавиатуры и вывести на экран. После этого значения меняются местами, т.е. A нужно присвоить значение B, а B – значение A, и вновь значения переменных вывести на экран.\n",
    "\n",
    "2. Значение x вводится с клавиатуры. Вычислите $y=(x+1)^2\\cdot \\sqrt{x^3+1}$ Выведите на экран значения $x$ и $y$ с тремя знаками после запятой.\n",
    "\n",
    "3. Вычислите сумму цифр пятизначного числа.\n",
    "\n",
    "4. Для заданного трехзначного числа выведите число, у которого цифры идут в обратном порядке, например, для числа 123 ответ 321.\n",
    "\n",
    "5. Ввести координаты 2 точек: $(x_1,y_1)$ и $(x_2,y_2)$. Вычислите расстояние между этими точками.  Результат выведите с 5 знаками после запятой.\n",
    "\n",
    "6. Разработать программу вычисления по известному радиусу площади круга и длины окружности.\n",
    "\n",
    "7. Разработать программу по вычислению площади кольца по известным значениям его внешнего и внутреннего радиусов.\n",
    "\n",
    "8. Разработать программу вычисления радиуса круга и его площади по известной длине окружности.\n",
    "\n",
    "9. Разработать программу вычисления объема шара: а) по радиусу; б) по длине его экваториальной параллели. Объём шара рассчитывается по формуле $V=\\frac{4}{3}\\pi{r^3}$, где $r$ - радиус.\n",
    "\n",
    "10. Имеются два $n$–мерных вектора $x$ и $y$, которые задают координаты $n$ точек на плоскости (случайные целые числа). Найти наиболее близкие друг другу точки.\n",
    "\n",
    "11. Треугольник задан координатами своих вершин: $(x_1,y_1),(x_2,y_2),(x_3,y_3)$. Значения координат определите с помощью присваивания. Они могут быть нецелыми. Найти периметр и площадь треугольника.\n",
    "\n",
    "12. Пусть пользователь вводит 5 чисел: а, b, c, d, e. Реализуйте программу расчета выражения вида $res=\\frac{a+bc}{2d-e}+Ost[b^e/c]$, где $Ost$ - остаток от деления. Учесть невозможность деления на 0.\n",
    "\n",
    "\n",
    "## 1.2. Строки, функции и методы работы со строками\n",
    "\n",
    "1. Введите строку, состоящую из двух цифр. Преобразуйте ее в целое и вещественное число. Выведите полученные три значения (строку, целое число, вещественное число) на экран в одной строке через запятую, затем пропустите строку и вновь выведите значения по одному на строке. Перед каждым значением выведите его тип.\n",
    "\n",
    "2. Для строки 'Финансовый университет' двумя способами получить подстроку с 1-го по 4-й символы включительно.\n",
    "\n",
    "3. Составить строку из всех четных символов строки 'Финансовый университет'.\n",
    "\n",
    "4. Получить подстроку неизвестной заранее строки, содержащую половину символов строки и расположенную посередине строки.\n",
    "\n",
    "5. Коротко записать создание строки 'oneoneoneoneoneonetwotwotwo'\n",
    "\n",
    "6. Для введенной строки выведите (на отдельной строке):\n",
    "- второй символ этой строки;\n",
    "- предпоследний символ этой строки;\n",
    "- всю строку, кроме последних двух символов;\n",
    "- все символы с четными индексами (считая, что индексация начинается с 0, поэтому символы выводятся, начиная с первого);\n",
    "- все символы с нечетными индексами, то есть начиная со второго символа строки;\n",
    "- все символы в обратном порядке;\n",
    "- все символы строки через один в обратном порядке, начиная с последнего;\n",
    "- длину данной строки.\n",
    "\n",
    "7. Не используя метод count, для заданной строки выполните:\n",
    "- если символ * в данной строке отсутствует, выведите текст «нет символа»;\n",
    "- если символ * встречается в строке только один раз, выведите его индекс;\n",
    "- если символ * встречается два и более раз, выведите индекс его первого, второго и последнего вхождения, удалите первый и последний символ * из строки.\n",
    "\n",
    "8. Дана строка, состоящая из слов, разделенных пробелами. В этой строке:\n",
    "- удалите все лишние пробелы (в начале, в конце, между словами оставить ровно один пробел);\n",
    "- поменяйте регистр символов (строчные сделать прописными, прописные – строчными);\n",
    "- определите, сколько в ней слов.\n",
    "\n",
    "9. Строка содержит фамилию, имя и отчество, записанные через пробелы. Например «Иванов Иван Иванович». Для этой строки:\n",
    "- выведите информацию в виде:\n",
    "```\n",
    "Фамилия       Иванов\n",
    "Имя           Иван\n",
    "Отчество      Иванович\n",
    "```\n",
    "- получите строки вида «Иванов И.И.» и «И.И. Иванов».\n",
    "\n",
    "10. Напишите программу, которая осуществляет вывод кошки на экран. Примечание: кошка выглядят примерно так:\n",
    "```\n",
    "         /\\_/\\ \n",
    "         /@ @\\ \n",
    "        (~~0~~)\n",
    "\n",
    " ```\n",
    "\n",
    "11. Для двух произвольных строк провести сравнение на совпадение содержимого без учета регистра букв и начальных и конечных пробельных символов. Например, для двух строк ' HeLLO WOrlD' и 'hello WORLD ' такое сравнение должно возвращать True (содержание строк совпадает).\n",
    "\n",
    "12. По номеру года определите, является ли данный год високосным. (год является високосным, если его номер кратен 4, но не кратен 100, а также если он кратен 400).\n",
    "\n",
    "18. Даны точки $A=(1,1),B=(5,5),C=(1,4),D=(7,2)$. Найти точку пересечения отрезков $AB$ и $CD$."
   ]
  },
  {
   "cell_type": "code",
   "execution_count": null,
   "metadata": {},
   "outputs": [],
   "source": []
  },
  {
   "cell_type": "markdown",
   "metadata": {},
   "source": [
    "1. Значения переменных А и В ввести с клавиатуры и вывести на экран. После этого значения меняются местами, т.е. A нужно присвоить значение B, а B – значение A, и вновь значения переменных вывести на экран.\n"
   ]
  },
  {
   "cell_type": "code",
   "execution_count": 11,
   "metadata": {},
   "outputs": [
    {
     "name": "stdout",
     "output_type": "stream",
     "text": [
      "Задание 1\n",
      "Введите число: 2\n",
      "Введите число: 3\n",
      "Значение a = 3\n",
      "Значение b = 2\n"
     ]
    }
   ],
   "source": [
    "print(\"Задание 1\")\n",
    "a = int(input(\"Введите число: \"))\n",
    "b = int(input(\"Введите число: \"))\n",
    "a,b = b,a\n",
    "print(\"Значение a =\", a)\n",
    "print(\"Значение b =\", b)"
   ]
  },
  {
   "cell_type": "markdown",
   "metadata": {},
   "source": [
    "2. Значение x вводится с клавиатуры. Вычислите $y=(x+1)^2\\cdot \\sqrt{x^3+1}$ Выведите на экран значения $x$ и $y$ с тремя знаками после запятой."
   ]
  },
  {
   "cell_type": "code",
   "execution_count": 21,
   "metadata": {},
   "outputs": [
    {
     "name": "stdout",
     "output_type": "stream",
     "text": [
      "Задание 2\n",
      "Введите х: 5\n",
      "Результат: 404.099\n"
     ]
    }
   ],
   "source": [
    "print(\"Задание 2\")\n",
    "x = int(input(\"Введите х: \"))\n",
    "y = (x + 1)**2*(x**3+1)**(1/2)\n",
    "print(\"Результат:\", round(y, 3))"
   ]
  },
  {
   "cell_type": "markdown",
   "metadata": {},
   "source": [
    "3. Вычислите сумму цифр пятизначного числа."
   ]
  },
  {
   "cell_type": "code",
   "execution_count": 32,
   "metadata": {},
   "outputs": [
    {
     "name": "stdout",
     "output_type": "stream",
     "text": [
      "Задание 3\n",
      "Введите пятизначное натуральное число 78945\n",
      "Результат: 5 + 4 + 9 + 8 + 7 = 33\n"
     ]
    }
   ],
   "source": [
    "print(\"Задание 3\")\n",
    "g = int(input(\"Введите пятизначное натуральное число \"))\n",
    "a = g%10\n",
    "b = g//10%10\n",
    "c = g//10//10%10\n",
    "d = g//10//10//10%10\n",
    "f = g//10//10//10//10%10\n",
    "\n",
    "print(\"Результат:\", f\"{a} + {b} + {c} + {d} + {f} = {a+b+c+d+f}\")"
   ]
  },
  {
   "cell_type": "markdown",
   "metadata": {},
   "source": [
    "4. Для заданного трехзначного числа выведите число, у которого цифры идут в обратном порядке, например, для числа 123 ответ 321."
   ]
  },
  {
   "cell_type": "code",
   "execution_count": 44,
   "metadata": {},
   "outputs": [
    {
     "name": "stdout",
     "output_type": "stream",
     "text": [
      "Задание 3\n",
      "654\n"
     ]
    }
   ],
   "source": [
    "print(\"Задание 3\")\n",
    "t = 456\n",
    "a = t%10\n",
    "b = (t//10)%10\n",
    "c = ((t//10)//10)%10\n",
    "\n",
    "print(a,b,c,sep='')"
   ]
  },
  {
   "cell_type": "code",
   "execution_count": 2,
   "metadata": {},
   "outputs": [
    {
     "name": "stdout",
     "output_type": "stream",
     "text": [
      "1587\n",
      "8\n"
     ]
    }
   ],
   "source": [
    "n = int(input())\n",
    "u = n//10%10\n",
    "print(u)"
   ]
  },
  {
   "cell_type": "markdown",
   "metadata": {},
   "source": [
    "5. Ввести координаты 2 точек:  (𝑥1,𝑦1) и  (𝑥2,𝑦2). Вычислите расстояние между этими точками. Результат выведите с 5 знаками после запятой."
   ]
  },
  {
   "cell_type": "code",
   "execution_count": 1,
   "metadata": {},
   "outputs": [
    {
     "name": "stdout",
     "output_type": "stream",
     "text": [
      "Введите x1: 5\n",
      "Введите y1: 6\n",
      "Введите x2: 7\n",
      "Введите y2: 8\n",
      "Результат: 2.82843\n"
     ]
    }
   ],
   "source": [
    "x1 = int(input(\"Введите x1: \"))\n",
    "y1 = int(input(\"Введите y1: \"))\n",
    "x2 = int(input(\"Введите x2: \"))\n",
    "y2 = int(input(\"Введите y2: \"))\n",
    "S = (((x1-x2)**2)+((y1-y2)**2))**(1/2) # Вычисление корня\n",
    "print(\"Результат:\", round(S, 5)) # Модуль числа"
   ]
  },
  {
   "cell_type": "markdown",
   "metadata": {},
   "source": [
    "6. Разработать программу вычисления по известному радиусу площади круга и длины окружности."
   ]
  },
  {
   "cell_type": "code",
   "execution_count": 27,
   "metadata": {},
   "outputs": [
    {
     "name": "stdout",
     "output_type": "stream",
     "text": [
      "Площадь круга: 78.5\n",
      "Длина окружности: 31.4\n"
     ]
    }
   ],
   "source": [
    "Rad = 5\n",
    "Pi = 3.14\n",
    "print(\"Площадь круга:\", (S := (Pi * Rad**2)))\n",
    "print(\"Длина окружности:\", (round(C := (2*Pi*Rad), 1)))"
   ]
  },
  {
   "cell_type": "markdown",
   "metadata": {},
   "source": [
    "7. Разработать программу по вычислению площади кольца по известным значениям его внешнего и внутреннего радиусов."
   ]
  },
  {
   "cell_type": "markdown",
   "metadata": {},
   "source": [
    "Пусть R - радиус внешней окружности, r - радиус внутренней окружности, S - его площадь. Тогда справедлива формула: S = Pi(R^2-r^2)"
   ]
  },
  {
   "cell_type": "code",
   "execution_count": 29,
   "metadata": {},
   "outputs": [
    {
     "name": "stdout",
     "output_type": "stream",
     "text": [
      "Площадь кольца: 197.8\n"
     ]
    }
   ],
   "source": [
    "R = 12\n",
    "r = 9\n",
    "Pi = 3.14\n",
    "print(\"Площадь кольца:\", round((S := (Pi * (R**2-r**2))),1))"
   ]
  },
  {
   "cell_type": "markdown",
   "metadata": {},
   "source": [
    "8. Разработать программу вычисления радиуса круга и его площади по известной длине окружности."
   ]
  },
  {
   "cell_type": "markdown",
   "metadata": {},
   "source": [
    "Здесь справедлива формула: r = C/2Pi.\n",
    "Площадь круга равна половине произведения длины его окружности на радиус, поэтому: S = (C*r)/2"
   ]
  },
  {
   "cell_type": "code",
   "execution_count": 39,
   "metadata": {},
   "outputs": [
    {
     "name": "stdout",
     "output_type": "stream",
     "text": [
      "Радиус круга: 6.4\n",
      "Площадь круга: 127.4\n"
     ]
    }
   ],
   "source": [
    "C = 40\n",
    "Pi = 3.14\n",
    "print(\"Радиус круга:\", round((r := (C/(2*Pi))),1))\n",
    "print(\"Площадь круга:\", round((S := ((C*r)/2)),1))"
   ]
  },
  {
   "cell_type": "markdown",
   "metadata": {},
   "source": [
    "9. Разработать программу вычисления объема шара: а) по радиусу; б) по длине его экваториальной параллели. Объём шара рассчитывается по формуле  𝑉=43𝜋𝑟3, где 𝑟 - радиус."
   ]
  },
  {
   "cell_type": "code",
   "execution_count": 51,
   "metadata": {},
   "outputs": [
    {
     "name": "stdout",
     "output_type": "stream",
     "text": [
      "Объём круга по радиусу: 523.3\n",
      "Объём круга по экваториальной паралелли: 523.3\n"
     ]
    }
   ],
   "source": [
    "Rad = 5\n",
    "Pi = 3.14\n",
    "print(\"Объём круга по радиусу:\", round((V1 := ((4/3)*Pi*Rad**3)),1))\n",
    "print(\"Объём круга по экваториальной паралелли:\", V2 := round(((2*Pi*Rad)**3)/(6*Pi**2), 1))"
   ]
  },
  {
   "cell_type": "markdown",
   "metadata": {},
   "source": [
    "10. Имеются два  𝑛–мерных вектора  𝑥 и  𝑦, которые задают координаты  𝑛 точек на плоскости (случайные целые числа). Найти наиболее близкие друг другу точки."
   ]
  },
  {
   "cell_type": "code",
   "execution_count": 2,
   "metadata": {},
   "outputs": [
    {
     "name": "stdout",
     "output_type": "stream",
     "text": [
      "Ближайшие точки: (6, 9)\n",
      "Расстояние между ними: 5.7\n"
     ]
    }
   ],
   "source": [
    "import random #импортируем модуль random, который предоставляет функции для генерации случайных чисел\n",
    "\n",
    "def distance(a, b):\n",
    "    return ((a[0] - b[0]) ** 2 + (a[1] - b[1]) ** 2) ** 0.5 #расчет ближайшего расстояния между точками\n",
    "\n",
    "n = 10 #n - это будет наш диапазон чисел\n",
    "x, y = [], []   # пустые списки x и y, в которые будут доабвлены точки a и b\n",
    "\n",
    "for i in range(n):\n",
    "    x.append(random.randint(1, 100)) # 5 случайных точек с координатами (x, y), где x и y - случайные числа от 1 до 100\n",
    "    y.append(random.randint(1, 100)) # добавляем 10 случайных значений в пустые списки х и у\n",
    "\n",
    "closest_pair = None\n",
    "min_distance = float('inf')\n",
    "\n",
    "for i in range(n):\n",
    "    for j in range(i+1, n):\n",
    "        d = distance([x[i], y[i]], [x[j], y[j]]) # используем функцию, чтобы вычислить расстояние между точками\n",
    "        if d < min_distance: # если это найденное расстояние меньше бесконечности\n",
    "            min_distance, closest_pair = d, (i, j) #тогда min_distance примет значение d, а closest_pair - i-х и j-х точек\n",
    "\n",
    "print(\"Ближайшие точки:\", closest_pair)\n",
    "print(\"Расстояние между ними:\", round(min_distance, 1))"
   ]
  },
  {
   "cell_type": "markdown",
   "metadata": {},
   "source": [
    "11. Треугольник задан координатами своих вершин:  (𝑥1,𝑦1),(𝑥2,𝑦2),(𝑥3,𝑦3). Значения координат определите с помощью присваивания. Они могут быть нецелыми. Найти периметр и площадь треугольника."
   ]
  },
  {
   "cell_type": "code",
   "execution_count": 78,
   "metadata": {},
   "outputs": [
    {
     "name": "stdout",
     "output_type": "stream",
     "text": [
      "Найдём 3 стороны треугольника a, b и c:\n",
      "a = 6.71\n",
      "b = 5.1\n",
      "c = 2.24\n",
      "Полупериметр треугольника: 7.02\n",
      "Периметр треугольника: 14.04\n",
      "Площадь треугольника: 4.5\n"
     ]
    }
   ],
   "source": [
    "x1, y1 = 5, 10\n",
    "x2, y2 = 2, 4\n",
    "x3, y3 = 3, 9\n",
    "print(\"Найдём 3 стороны треугольника a, b и c:\")\n",
    "print (\"a =\", round((a := ((x2-x1)**2+(y2-y1)**2)**(1/2)),2))\n",
    "print (\"b =\", round((b := ((x3-x2)**2+(y3-y2)**2)**(1/2)),2))\n",
    "print (\"c =\", round((c := ((x1-x3)**2+(y1-y3)**2)**(1/2)),2))\n",
    "print(\"Полупериметр треугольника:\", round((pp := (a + b + c)/2),2))\n",
    "print(\"Периметр треугольника:\", round((p := (a + b + c)),2))\n",
    "print(\"Площадь треугольника:\", round((S := (pp*(pp-a)*(pp-b)*(pp-c))**(1/2)),2))"
   ]
  },
  {
   "cell_type": "markdown",
   "metadata": {},
   "source": [
    "12. Пусть пользователь вводит 5 чисел: а, b, c, d, e. Реализуйте программу расчета выражения вида  𝑟𝑒𝑠=𝑎+𝑏𝑐2𝑑−𝑒+𝑂𝑠𝑡[𝑏𝑒/𝑐], где 𝑂𝑠𝑡 - остаток от деления. Учесть невозможность деления на 0."
   ]
  },
  {
   "cell_type": "code",
   "execution_count": 115,
   "metadata": {},
   "outputs": [
    {
     "name": "stdout",
     "output_type": "stream",
     "text": [
      "Введите число a: 1\n",
      "Введите число b: 2\n",
      "Введите число c: 3\n",
      "Введите число d: 4\n",
      "Введите число e: 5\n",
      "Результат: 4.3\n"
     ]
    }
   ],
   "source": [
    "import sys\n",
    "#a,b,c,d,e=5,4,6,8,6\n",
    "a = int(input(\"Введите число a: \"))\n",
    "b = int(input(\"Введите число b: \"))\n",
    "c = int(input(\"Введите число c: \"))\n",
    "d = int(input(\"Введите число d: \"))\n",
    "e = int(input(\"Введите число e: \"))\n",
    "if c == 0:\n",
    "    sys.exit(\"Деление на ноль при вычислении\")\n",
    "Ost = (b**e)%c\n",
    "First = a+b*c\n",
    "Second = (2*d-e)\n",
    "if Second == 0:\n",
    "    sys.exit(\"Деление на ноль при вычислении\")\n",
    "Res = (First/Second) + Ost\n",
    "print(\"Результат:\", round(Res,1))"
   ]
  },
  {
   "cell_type": "markdown",
   "metadata": {},
   "source": [
    "СТРОКИ\n",
    "1. Введите строку, состоящую из двух цифр. Преобразуйте ее в целое и вещественное число. Выведите полученные три значения (строку, целое число, вещественное число) на экран в одной строке через запятую, затем пропустите строку и вновь выведите значения по одному на строке. Перед каждым значением выведите его тип."
   ]
  },
  {
   "cell_type": "code",
   "execution_count": 180,
   "metadata": {},
   "outputs": [
    {
     "name": "stdout",
     "output_type": "stream",
     "text": [
      "14\n",
      "14,14,14.0\n",
      "\n",
      "14 <class 'str'>\n",
      "14 <class 'int'>\n",
      "14.0 <class 'float'>\n"
     ]
    }
   ],
   "source": [
    "string = input()\n",
    "integer_string = int(string)\n",
    "float_string = float(string)\n",
    "print(string, integer_string, float_string, sep= \",\")\n",
    "print(\"\")\n",
    "print(string, type(string))\n",
    "print(integer_string, type(integer_string))\n",
    "print(float_string, type(float_string))"
   ]
  },
  {
   "cell_type": "markdown",
   "metadata": {},
   "source": [
    "2. Для строки 'Финансовый университет' получить подстроку с 1-го по 4-й символы включительно."
   ]
  },
  {
   "cell_type": "code",
   "execution_count": 130,
   "metadata": {},
   "outputs": [
    {
     "name": "stdout",
     "output_type": "stream",
     "text": [
      "Фина\n"
     ]
    }
   ],
   "source": [
    "phrase = 'Финансовый университет'\n",
    "print(phrase[0:4])"
   ]
  },
  {
   "cell_type": "markdown",
   "metadata": {},
   "source": [
    "3. Составить строку из всех четных символов строки 'Финансовый университет'."
   ]
  },
  {
   "cell_type": "code",
   "execution_count": 144,
   "metadata": {},
   "outputs": [
    {
     "name": "stdout",
     "output_type": "stream",
     "text": [
      "Фнноы нврие\n"
     ]
    }
   ],
   "source": [
    "phrase = 'Финансовый университет'\n",
    "print(phrase[::2])"
   ]
  },
  {
   "cell_type": "markdown",
   "metadata": {},
   "source": [
    "4. Получить подстроку неизвестной заранее строки, содержащую половину символов строки и расположенную посередине строки."
   ]
  },
  {
   "cell_type": "code",
   "execution_count": 153,
   "metadata": {},
   "outputs": [
    {
     "name": "stdout",
     "output_type": "stream",
     "text": [
      "gjfggdjg nslgnselg\n"
     ]
    }
   ],
   "source": [
    "s = \"gjfggdjgnslgnselg\"\n",
    "s1 = s[:len(s)//2]\n",
    "s2 = s[len(s)//2:]\n",
    "print(s1,s2)"
   ]
  },
  {
   "cell_type": "markdown",
   "metadata": {},
   "source": [
    "5. Коротко записать создание строки 'oneoneoneoneoneonetwotwotwo'"
   ]
  },
  {
   "cell_type": "code",
   "execution_count": 155,
   "metadata": {},
   "outputs": [
    {
     "data": {
      "text/plain": [
       "'oneoneoneoneoneonetwotwotwo'"
      ]
     },
     "execution_count": 155,
     "metadata": {},
     "output_type": "execute_result"
    }
   ],
   "source": [
    "'one'*6 + 'two'*3"
   ]
  },
  {
   "cell_type": "markdown",
   "metadata": {},
   "source": [
    "6. \n",
    "Для введенной строки выведите (на отдельной строке):\n",
    "\n",
    "второй символ этой строки;\n",
    "предпоследний символ этой строки;\n",
    "всю строку, кроме последних двух символов;\n",
    "все символы с четными индексами (считая, что индексация начинается с 0, поэтому символы выводятся, начиная с первого);\n",
    "все символы с нечетными индексами, то есть начиная со второго символа строки;\n",
    "все символы в обратном порядке;\n",
    "все символы строки через один в обратном порядке, начиная с последнего;\n",
    "длину данной строки."
   ]
  },
  {
   "cell_type": "code",
   "execution_count": 3,
   "metadata": {},
   "outputs": [
    {
     "name": "stdout",
     "output_type": "stream",
     "text": [
      "Введите строку: Высочество\n",
      "ы\n",
      "в\n",
      "Высочество\n",
      "Высочест\n",
      "Всчсв\n",
      "ыоето\n",
      "овтсечосыВ\n",
      "отеоы\n",
      "10\n"
     ]
    }
   ],
   "source": [
    "s = input(\"Введите строку: \")\n",
    "#s = \"Высочество\"\n",
    "print(s[1])\n",
    "print(s[-2])\n",
    "print(s[:])\n",
    "print(s[:-2])\n",
    "print(s[::2])\n",
    "print(s[1::2])\n",
    "print(s[::-1])\n",
    "print(s[::-2])\n",
    "print(len(s))"
   ]
  },
  {
   "cell_type": "markdown",
   "metadata": {},
   "source": [
    "7. Не используя метод count, для заданной строки выполните:\n",
    "если символ * в данной строке отсутствует, выведите текст «нет символа»;\n",
    "если символ * встречается в строке только один раз, выведите его индекс;\n",
    "если символ * встречается два и более раз, выведите индекс его первого, второго и последнего вхождения, удалите первый и последний символ * из строки."
   ]
  },
  {
   "cell_type": "code",
   "execution_count": 2,
   "metadata": {},
   "outputs": [
    {
     "name": "stdout",
     "output_type": "stream",
     "text": [
      "Символ есть!\n"
     ]
    }
   ],
   "source": [
    "fullstring = \"Ladies and* Gentlemen\"\n",
    "substring = \"*\"\n",
    "if substring in fullstring:\n",
    "    print (\"Символ есть!\")\n",
    "else:\n",
    "    print (\"Нет символа!\")"
   ]
  },
  {
   "cell_type": "code",
   "execution_count": 22,
   "metadata": {},
   "outputs": [
    {
     "name": "stdout",
     "output_type": "stream",
     "text": [
      "[1, 11, 19]\n"
     ]
    }
   ],
   "source": [
    "fullstring = \"L*adies and* Gentle*men\"\n",
    "substring = '*'\n",
    "indices = []\n",
    "index = -1  # начинаем поиск с начала строки\n",
    " \n",
    "while True:\n",
    "    # находим следующее вхождение подстроки\n",
    "    index = fullstring.find(substring, index + 1)\n",
    " \n",
    "    # если вхождение не найдено, выходим из цикла\n",
    "    if index == -1:\n",
    "        break\n",
    " \n",
    "    # добавляем индекс в список\n",
    "    indices.append(index)\n",
    " \n",
    "print(indices)"
   ]
  },
  {
   "cell_type": "code",
   "execution_count": 21,
   "metadata": {},
   "outputs": [
    {
     "name": "stdout",
     "output_type": "stream",
     "text": [
      "Ladies and* Gentle*men\n"
     ]
    }
   ],
   "source": [
    "fullstring = \"L*adies and* Gentle*men\"\n",
    "result_string = \"\"\n",
    "first_index = fullstring.find('*')\n",
    "#last_index = fullstring.rfind('*')\n",
    "\n",
    "\n",
    "for i in range(len(fullstring)):\n",
    "    if i != first_index:\n",
    "           result_string += fullstring[i]\n",
    "        \n",
    "print(result_string)\n",
    "\n",
    "\n",
    "#fullstring.rfind('*')\n",
    "#print(fullstring.rfind('*'))\n",
    "#print (fullstring)"
   ]
  },
  {
   "cell_type": "markdown",
   "metadata": {},
   "source": [
    "8. Дана строка, состоящая из слов, разделенных пробелами. В этой строке:\n",
    "\n",
    "удалите все лишние пробелы (в начале, в конце, между словами оставить ровно один пробел);\n",
    "\n",
    "поменяйте регистр символов (строчные сделать прописными, прописные – строчными);\n",
    "\n",
    "определите, сколько в ней слов."
   ]
  },
  {
   "cell_type": "code",
   "execution_count": 28,
   "metadata": {},
   "outputs": [
    {
     "name": "stdout",
     "output_type": "stream",
     "text": [
      "Now We Are Floating In Space\n"
     ]
    }
   ],
   "source": [
    "string = \" Now We     Are Floating In     Space        \"\n",
    "string.split() # сначала разорвём слова из предложения с помощью функции split\n",
    "new_string = ' '.join(string.split()) # а затем соединим с помощью функции join\n",
    "print(new_string)"
   ]
  },
  {
   "cell_type": "code",
   "execution_count": 29,
   "metadata": {},
   "outputs": [
    {
     "name": "stdout",
     "output_type": "stream",
     "text": [
      "nOW wE aRE fLOATING iN sPACE\n"
     ]
    }
   ],
   "source": [
    "string = \"Now We Are Floating In Space\"\n",
    "print(string.swapcase())"
   ]
  },
  {
   "cell_type": "code",
   "execution_count": 123,
   "metadata": {},
   "outputs": [
    {
     "name": "stdout",
     "output_type": "stream",
     "text": [
      "['Now', 'We', 'Are', 'Floating', 'In', 'Space']\n",
      "Всего слов в предложении: 6\n"
     ]
    }
   ],
   "source": [
    "string = \"Now We Are Floating In Space\"\n",
    "countered_string = string.split() # сначала разорвём слова из предложения с помощью функции split\n",
    "print(countered_string)\n",
    "print(\"Всего слов в предложении:\", len(countered_string))"
   ]
  },
  {
   "cell_type": "markdown",
   "metadata": {},
   "source": [
    "9. Строка содержит фамилию, имя и отчество, записанные через пробелы. Например «Иванов Иван Иванович». Для этой строки:\n",
    "    \n",
    "выведите информацию в виде:\n",
    "    \n",
    "Фамилия       Иванов\n",
    "Имя           Иван\n",
    "Отчество      Иванович\n",
    "\n",
    "получите строки вида «Иванов И.И.» и «И.И. Иванов»."
   ]
  },
  {
   "cell_type": "code",
   "execution_count": 87,
   "metadata": {},
   "outputs": [
    {
     "name": "stdout",
     "output_type": "stream",
     "text": [
      "Фамилия        Иванов    \n",
      "Имя            Иван      \n",
      "Отчество       Иванович  \n"
     ]
    }
   ],
   "source": [
    "print(f\"{'Фамилия' : <15}{'Иванов' : <10}\")\n",
    "print(f\"{'Имя' : <15}{'Иван' : <10}\")\n",
    "print(f\"{'Отчество' : <15}{'Иванович' : <10}\")"
   ]
  },
  {
   "cell_type": "code",
   "execution_count": 4,
   "metadata": {},
   "outputs": [
    {
     "name": "stdout",
     "output_type": "stream",
     "text": [
      "Иванов И.И.\n"
     ]
    }
   ],
   "source": [
    "lastname = \"Иванов Иван Иванович\".split(' ', 1)[-2]\n",
    "name = \"Иванов Иван Иванович\".split(' ', -1)[1]\n",
    "patronymic = \"Иванов Иван Иванович\".split(' ', 2)[-1]\n",
    "print(lastname, \" \" , name[0], '.', patronymic[0],'.', sep='')"
   ]
  },
  {
   "cell_type": "code",
   "execution_count": 134,
   "metadata": {},
   "outputs": [
    {
     "name": "stdout",
     "output_type": "stream",
     "text": [
      "И.И. Иванов\n"
     ]
    }
   ],
   "source": [
    "lastname = \"Иванов Иван Иванович\".split(' ', 1)[-2]\n",
    "name = \"Иванов Иван Иванович\".split(' ', -1)[1]\n",
    "patronymic = \"Иванов Иван Иванович\".split(' ', 2)[-1]\n",
    "print(name[0], '.', patronymic[0],'.', \" \", lastname, sep='')"
   ]
  },
  {
   "cell_type": "markdown",
   "metadata": {},
   "source": [
    "10. Напишите программу, которая осуществляет вывод кошки на экран. Примечание: кошка выглядят примерно так:\n",
    "\n",
    "         /\\_/\\ \n",
    "         /@ @\\ \n",
    "        (~~0~~)\n"
   ]
  },
  {
   "cell_type": "code",
   "execution_count": 147,
   "metadata": {},
   "outputs": [
    {
     "name": "stdout",
     "output_type": "stream",
     "text": [
      "    /\\_/\\ \n",
      "    /@ @\\\n",
      "   (~~0~~)\n"
     ]
    }
   ],
   "source": [
    "print(\"    /\\_/\\ \\n    /@ @\\\\\\n   (~~0~~)\")"
   ]
  },
  {
   "cell_type": "markdown",
   "metadata": {},
   "source": [
    "11. Для двух произвольных строк провести сравнение на совпадение содержимого без учета регистра букв и начальных и конечных пробельных символов. Например, для двух строк ' HeLLO WOrlD' и 'hello WORLD ' такое сравнение должно возвращать True (содержание строк совпадает)."
   ]
  },
  {
   "cell_type": "code",
   "execution_count": 148,
   "metadata": {},
   "outputs": [
    {
     "name": "stdout",
     "output_type": "stream",
     "text": [
      "True\n"
     ]
    }
   ],
   "source": [
    "string1 = \"Performed by Spiritualized\"\n",
    "string2 = \"perFormEd BY spirITualIZed\"\n",
    "print(string1.lower()==string2.lower())"
   ]
  },
  {
   "cell_type": "markdown",
   "metadata": {},
   "source": [
    "12. По номеру года определите, является ли данный год високосным. (год является високосным, если его номер кратен 4, но не кратен 100, а также если он кратен 400)."
   ]
  },
  {
   "cell_type": "code",
   "execution_count": 153,
   "metadata": {},
   "outputs": [
    {
     "name": "stdout",
     "output_type": "stream",
     "text": [
      "Введите год: 2525\n",
      "Год не високосный\n"
     ]
    }
   ],
   "source": [
    "year = int(input('Введите год: '))\n",
    "\n",
    "if (year % 4 == 0 and year % 100 != 0) or year % 400 == 0:\n",
    "    print('Год високосный')\n",
    "else:\n",
    "    print('Год не високосный')"
   ]
  },
  {
   "cell_type": "markdown",
   "metadata": {},
   "source": [
    "13. Даны точки  𝐴=(1,1),𝐵=(5,5),𝐶=(1,4),𝐷=(7,2). Найти точку пересечения отрезков 𝐴𝐵 и 𝐶𝐷."
   ]
  },
  {
   "cell_type": "code",
   "execution_count": 11,
   "metadata": {},
   "outputs": [
    {
     "name": "stdout",
     "output_type": "stream",
     "text": [
      "Координаты концов первого отрезка:\n",
      "{5: 15},{5: 0}\n",
      "\n",
      "Координаты концов второго отрезка:\n",
      "{0: 10},{10: 10}\n",
      "Точка пересечения отрезков есть, координаты: (5.000000, 10.000000).\n"
     ]
    }
   ],
   "source": [
    "#a1, a2 = 1, 1\n",
    "#b1, b2 = 5, 5\n",
    "#c1, c2 = 1, 4\n",
    "#d1, d2 = 7, 2\n",
    "\n",
    "print(\"Координаты концов первого отрезка:\")\n",
    "a1, a2 = 5, 15\n",
    "b1, b2 = 5, 0\n",
    "print({a1:a2}, {b1:b2}, sep= \",\")\n",
    "print(\"\")\n",
    "print(\"Координаты концов второго отрезка:\")\n",
    "c1, c2 = 0, 10\n",
    "d1, d2 = 10, 10\n",
    "print({c1:c2}, {d1:d2}, sep= \",\")\n",
    " \n",
    "def point(x, y): #пишем функцию point для формул уравнения прямых.  \n",
    "    if min(a1, b1) <= x <= max(a1, b1):\n",
    "        print('Точка пересечения отрезков есть, координаты: ({0:f}, {1:f}).'.\n",
    "              format(x, y))\n",
    "    else:\n",
    "        print('Точки пересечения отрезков нет.')\n",
    " \n",
    "A1 = a2 - b2\n",
    "B1 = b1 - a1\n",
    "C1 = a1*b2 - b1*a2\n",
    "A2 = c2 - d2\n",
    "B2 = d1 - c1\n",
    "C2 = c1*d2 - d1*c2\n",
    " \n",
    "if B1*A2 - B2*A1 and A1: #решаем систему двух уравнений\n",
    "    y = (C2*A1 - C1*A2) / (B1*A2 - B2*A1)\n",
    "    x = (-C1 - B1*y) / A1\n",
    "    point(x, y)\n",
    "elif B1*A2 - B2*A1 and A2:\n",
    "    y = (C2*A1 - C1*A2) / (B1*A2 - B2*A1)\n",
    "    x = (-C2 - B2*y) / A2\n",
    "    point(x, y)\n",
    "else:\n",
    "    print('Точки пересечения отрезков нет, отрезки')"
   ]
  },
  {
   "cell_type": "code",
   "execution_count": null,
   "metadata": {},
   "outputs": [],
   "source": []
  }
 ],
 "metadata": {
  "kernelspec": {
   "display_name": "Python 3 (ipykernel)",
   "language": "python",
   "name": "python3"
  },
  "language_info": {
   "codemirror_mode": {
    "name": "ipython",
    "version": 3
   },
   "file_extension": ".py",
   "mimetype": "text/x-python",
   "name": "python",
   "nbconvert_exporter": "python",
   "pygments_lexer": "ipython3",
   "version": "3.11.4"
  },
  "toc": {
   "base_numbering": 1,
   "nav_menu": {},
   "number_sections": true,
   "sideBar": true,
   "skip_h1_title": false,
   "title_cell": "Table of Contents",
   "title_sidebar": "Contents",
   "toc_cell": true,
   "toc_position": {},
   "toc_section_display": true,
   "toc_window_display": false
  },
  "varInspector": {
   "cols": {
    "lenName": 16,
    "lenType": 16,
    "lenVar": 40
   },
   "kernels_config": {
    "python": {
     "delete_cmd_postfix": "",
     "delete_cmd_prefix": "del ",
     "library": "var_list.py",
     "varRefreshCmd": "print(var_dic_list())"
    },
    "r": {
     "delete_cmd_postfix": ") ",
     "delete_cmd_prefix": "rm(",
     "library": "var_list.r",
     "varRefreshCmd": "cat(var_dic_list()) "
    }
   },
   "types_to_exclude": [
    "module",
    "function",
    "builtin_function_or_method",
    "instance",
    "_Feature"
   ],
   "window_display": false
  }
 },
 "nbformat": 4,
 "nbformat_minor": 4
}
