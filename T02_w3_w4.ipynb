{
 "cells": [
  {
   "cell_type": "markdown",
   "metadata": {
    "toc": true
   },
   "source": [
    "<h1>Table of Contents<span class=\"tocSkip\"></span></h1>\n",
    "<div class=\"toc\"><ul class=\"toc-item\"><li><span><a href=\"#Тема-2.-Строки-и-коллекции-в-языке-Python\" data-toc-modified-id=\"Тема-2.-Строки-и-коллекции-в-языке-Python-1\"><span class=\"toc-item-num\">1&nbsp;&nbsp;</span>Тема 2. Строки и коллекции в языке Python</a></span></li><li><span><a href=\"#Задания\" data-toc-modified-id=\"Задания-2\"><span class=\"toc-item-num\">2&nbsp;&nbsp;</span>Задания</a></span><ul class=\"toc-item\"><li><span><a href=\"#1.3.-Операторы-сравнения.-Логические-операторы.-Инструкция-ветвления-if...else\" data-toc-modified-id=\"1.3.-Операторы-сравнения.-Логические-операторы.-Инструкция-ветвления-if...else-2.1\"><span class=\"toc-item-num\">2.1&nbsp;&nbsp;</span>1.3. Операторы сравнения. Логические операторы. Инструкция ветвления if...else</a></span></li></ul></li></ul></div>"
   ]
  },
  {
   "cell_type": "markdown",
   "metadata": {},
   "source": [
    "\n",
    "# Тема 2. Строки и коллекции в языке Python"
   ]
  },
  {
   "cell_type": "markdown",
   "metadata": {},
   "source": [
    "# Задания\n",
    "\n",
    "Выполните задания\n",
    "\n"
   ]
  },
  {
   "cell_type": "markdown",
   "metadata": {},
   "source": [
    "## 1.3. Операторы сравнения. Логические операторы. Инструкция ветвления if...else\n",
    "\n",
    "1. Определить время года по номеру месяца.\n",
    "2. Определить минимальное значение среди чисел $a, b, c, d$ (не использовать стандартные функции max и min).\n",
    "3. Напишите программу, которая переводит оценку из 100-балльной системы в пятибалльную по правилам, принятым в университете.\n",
    "4. Вычислить значение $F: F=1$, если цифра $7$ входит в запись заданного трехзначного числа, и $0$ – в противном случае.\n",
    "5. Даны два отрезка $[a;b]$ и $[c;d]$. Найдите их пересечение. Если отрезки не пересекаются, то выдайте сообщение.\n",
    "6. По номеру года определите, является ли данный год високосным. (год является високосным, если его номер кратен 4, но не кратен 100, а также если он кратен 400).\n",
    "7. Для отрезков длины a, b, c определить, можно ли из них составить треугольник и является ли этот треугольник прямоугольным.\n",
    "8. Напишите программу для решения уравнения\n",
    "$$ ax^2+bx+c=0 $$\n",
    "Коэффициенты $a, b, c$ могут быть любыми числами. \n",
    "9. Вводится целое число. Выведите его на экран и допишите к нему слова «рубль», «рубля» или «рублей» в зависимости от значения. Алгоритм: \n",
    "- исключение: если число оканчивается на 11, 12, 13 или 14, добавляем слово «рублей»; \n",
    "- если число оканчивается на 1, добавляем слово «рубль»; \n",
    "- если число оканчивается на 2, 3 или 4, добавляем слово «рубля»; \n",
    "- если число оканчивается на цифры 5, 6, 7, 8, 9 или 0, добавляем слово «рублей».\n",
    "\n",
    "10. Пользователь поочередно вводит координаты точки в декартовой системе координат. Определить, какой четверти принадлежит данная точка или на какой оси она находится. Расположение точки вывести на экран. Найти произведение номера четверти на расстояние от этой точки до начала координат и вывести его на экран. Если точка лежит на оси, считать, что номер четверти равен 0.\n",
    "11. Выведите значение заданного целого числа от 0 до 999 прописью. Например, «сто девяносто один» для числа 191, «одиннадцать» для числа 11. \n",
    "12. Вычислите значение выражения, которое состоит из целых чисел и знаков «+» и «-». Выражение вводится как символьная строка.\n",
    "13. Пользователь поочередно вводит 2 строки. Определите, какая строка длиннее и на сколько символов, а какая строка стоит раньше в лексикографическом порядке. Собрать результирующую строку, которая бы содержала 1 и 2 строки, разделенные переносом строки.\n",
    "14. Реализовать калькулятор, который принимает от пользователя через пробел строку следующего вида: «a op b», где a и b – некоторые числа, а ‘op’ определяет оператор и может принимать значения $«+,-,*,/,**,%»$. В зависимости от оператора с помощью форматирования строк вывести результат в виде: «a + b = 3 + 2 = 5», где была получена строка «3 + 2». Для операций возведения в степень и деления по модулю использовать вместо знака оператора соответствующие выражения. Например, для строки «2 ** 3» должно быть выведено «a в степени b = 2 в степени 3 = 8».\n",
    "15. Напишите программу, которая в зависимости от введенного пользователем числа N, осуществляет вывод N кошек на экран. Пусть 1<= N <=10. Примечание: кошки при N=3 выглядят примерно так\n",
    "```\n",
    " /\\__/\\ /\\__/\\ /\\__/\\\n",
    " /@ @\\ /@ @\\ /@ @\\\n",
    " (~~0~~) (~~0~~) (~~0~~)\n",
    "```\n",
    "16. Имеются два n – мерных вектора x и y, которые задают координаты n точек на плоскости (случайные целые числа). Найти наиболее близкие друг другу точки.\n",
    "17. Из множества целых чисел от 1 до N выделить множество N2 числа, кратные 2, множество N3 – кратные 3, множество N 6 – кратные 6 (т.е. кратные и 2 и 3), множество N 23 – кратные либо 2, либо 3.\n",
    "18. Даны m (m>1) слов. Найти общее количество заданной буквы в этих словах.\n",
    "19. Даны m (m>1) слов. В каком из них доля (в %) заданной буквы больше."
   ]
  },
  {
   "cell_type": "markdown",
   "metadata": {},
   "source": [
    "1. Определить время года по номеру месяца."
   ]
  },
  {
   "cell_type": "code",
   "execution_count": 19,
   "metadata": {},
   "outputs": [
    {
     "name": "stdout",
     "output_type": "stream",
     "text": [
      "Введите номер месяца: 7\n",
      "Лето\n"
     ]
    }
   ],
   "source": [
    "month = int(input(\"Введите номер месяца: \"))\n",
    "if month >=2 and month <=5:\n",
    "    print (\"Весна\")\n",
    "elif month >=6 and month <=8:\n",
    "    print (\"Лето\")\n",
    "elif month >=9 and month <=11:\n",
    "    print (\"Осень\")   \n",
    "elif month > 12:\n",
    "    print (\"Больше 12 месяцев не бывает!\")\n",
    "elif month <=0:\n",
    "    print (\"Вы ввели отрицательное число или 0!\")\n",
    "else:\n",
    "    print (\"Зима\")"
   ]
  },
  {
   "cell_type": "markdown",
   "metadata": {},
   "source": [
    "2. Определить минимальное значение среди чисел  𝑎,𝑏,𝑐,𝑑 (не использовать стандартные функции max и min)."
   ]
  },
  {
   "cell_type": "code",
   "execution_count": 3,
   "metadata": {},
   "outputs": [
    {
     "name": "stdout",
     "output_type": "stream",
     "text": [
      "1\n"
     ]
    }
   ],
   "source": [
    "list_numbs = [5, 16, 1, 9, 3]\n",
    "\n",
    "min_number = None\n",
    "\n",
    "for number in list_numbs:\n",
    "    if min_number is None or number < min_number: #проверяем, что number не превышает каждое посл. число текущее мин значение.\n",
    "        min_number = number\n",
    "\n",
    "print(min_number)  "
   ]
  },
  {
   "cell_type": "markdown",
   "metadata": {},
   "source": [
    "3. Напишите программу, которая переводит оценку из 100-балльной системы в пятибалльную по правилам, принятым в университете."
   ]
  },
  {
   "cell_type": "code",
   "execution_count": 5,
   "metadata": {},
   "outputs": [
    {
     "name": "stdout",
     "output_type": "stream",
     "text": [
      "Введите оценку по 100-балльной шкале: 56\n",
      "2\n"
     ]
    }
   ],
   "source": [
    "grade = int(input(\"Введите оценку по 100-балльной шкале: \"))\n",
    "if grade >= 90:\n",
    "    print (\"5\")\n",
    "elif grade >= 80:\n",
    "    print (\"4\")\n",
    "elif grade >= 70:\n",
    "    print (\"3\")   \n",
    "else:\n",
    "    print (\"2\")"
   ]
  },
  {
   "cell_type": "markdown",
   "metadata": {},
   "source": [
    "4. Вычислить значение  𝐹:𝐹=1, если цифра 7 входит в запись заданного трехзначного числа, и  0 – в противном случае."
   ]
  },
  {
   "cell_type": "code",
   "execution_count": 10,
   "metadata": {},
   "outputs": [
    {
     "name": "stdout",
     "output_type": "stream",
     "text": [
      "Введите 3-х знач. число 578\n",
      "F = 578\n",
      "1\n"
     ]
    }
   ],
   "source": [
    "number = int(input(\"Введите 3-х знач. число \"))\n",
    "    \n",
    "if 100 <= number <= 999:\n",
    "    print(f\"F = {number}\")\n",
    "else:\n",
    "    print(\"Неверный ввод! Введите 3-х знач. число!)\n",
    "        \n",
    "number_str = str(number) #\n",
    "if '7' in number_str:\n",
    "    print(\"1\")\n",
    "else:\n",
    "    print(\"0\")"
   ]
  },
  {
   "cell_type": "markdown",
   "metadata": {},
   "source": [
    "5. Даны два отрезка  [𝑎;𝑏] и  [𝑐;𝑑]. Найдите их пересечение. Если отрезки не пересекаются, то выдайте сообщение."
   ]
  },
  {
   "cell_type": "code",
   "execution_count": 124,
   "metadata": {},
   "outputs": [
    {
     "name": "stdout",
     "output_type": "stream",
     "text": [
      "Введите координаты концов первого отрезка:\n",
      "2\n",
      "4\n",
      "5\n",
      "6\n",
      "{2: 4},{5: 6}\n",
      "\n",
      "Координаты концов второго отрезка:\n",
      "7\n",
      "8\n",
      "9\n",
      "4\n",
      "{7: 8},{9: 4}\n",
      "Точки пересечения отрезков нет.\n"
     ]
    }
   ],
   "source": [
    "print(\"Введите координаты концов первого отрезка:\")\n",
    "a1 = int(input())\n",
    "a2 = int(input())\n",
    "b1 = int(input())\n",
    "b2 = int(input())\n",
    "print({a1:a2}, {b1:b2}, sep= \",\")\n",
    "print(\"\")\n",
    "print(\"Координаты концов второго отрезка:\")\n",
    "c1 = int(input())\n",
    "c2 = int(input())\n",
    "d1 = int(input())\n",
    "d2 = int(input())\n",
    "print({c1:c2}, {d1:d2}, sep= \",\")\n",
    " \n",
    "def point(x, y): #пишем функцию point для формул уравнения прямых.  \n",
    "    if min(a1, b1) <= x <= max(a1, b1):\n",
    "        print('Точка пересечения отрезков есть, координаты: ({0:f}, {1:f}).'.\n",
    "              format(x, y))\n",
    "    else:\n",
    "        print('Точки пересечения отрезков нет.')\n",
    " \n",
    "A1 = a2 - b2\n",
    "B1 = b1 - a1\n",
    "C1 = a1*b2 - b1*a2\n",
    "A2 = c2 - d2\n",
    "B2 = d1 - c1\n",
    "C2 = c1*d2 - d1*c2\n",
    " \n",
    "if B1*A2 - B2*A1 and A1: #решаем систему двух уравнений\n",
    "    y = (C2*A1 - C1*A2) / (B1*A2 - B2*A1)\n",
    "    x = (-C1 - B1*y) / A1\n",
    "    point(x, y)\n",
    "elif B1*A2 - B2*A1 and A2:\n",
    "    y = (C2*A1 - C1*A2) / (B1*A2 - B2*A1)\n",
    "    x = (-C2 - B2*y) / A2\n",
    "    point(x, y)\n",
    "else:\n",
    "    print('Точки пересечения отрезков нет, отрезки не пересекаются')\n"
   ]
  },
  {
   "cell_type": "markdown",
   "metadata": {},
   "source": [
    "6. По номеру года определите, является ли данный год високосным. (год является високосным, если его номер кратен 4, но не кратен 100, а также если он кратен 400)."
   ]
  },
  {
   "cell_type": "code",
   "execution_count": 13,
   "metadata": {},
   "outputs": [
    {
     "name": "stdout",
     "output_type": "stream",
     "text": [
      "Введите год: 2021\n",
      "Год не високосный\n"
     ]
    }
   ],
   "source": [
    "year = int(input('Введите год: '))\n",
    "\n",
    "if (year % 4 == 0 and year % 100 != 0) or year % 400 == 0:\n",
    "    print('Год високосный')\n",
    "else:\n",
    "    print('Год не високосный')"
   ]
  },
  {
   "cell_type": "markdown",
   "metadata": {},
   "source": [
    "7. Для отрезков длины a, b, c определить, можно ли из них составить треугольник и является ли этот треугольник прямоугольным."
   ]
  },
  {
   "cell_type": "code",
   "execution_count": 2,
   "metadata": {},
   "outputs": [
    {
     "name": "stdout",
     "output_type": "stream",
     "text": [
      "a = 3\n",
      "b = 4\n",
      "c = 5\n",
      "Прямоугольный\n"
     ]
    }
   ],
   "source": [
    "a = int(input(\"a = \"))\n",
    "b = int(input(\"b = \"))\n",
    "c = int(input(\"c = \"))\n",
    "if a == b == c:\n",
    "    print('Равносторонний')\n",
    "elif b == c or a == c or a == b:\n",
    "    print('Равнобедренный')\n",
    "elif a**2 + b**2 == c**2 or b**2 + c**2 == a**2 or c**2 + a**2 == b**2:\n",
    "    print('Прямоугольный')\n",
    "else:\n",
    "    print('Разносторонний')"
   ]
  },
  {
   "cell_type": "markdown",
   "metadata": {},
   "source": [
    "8. Напишите программу для решения уравнения 𝑎𝑥2+𝑏𝑥+𝑐=0"
   ]
  },
  {
   "cell_type": "code",
   "execution_count": 41,
   "metadata": {},
   "outputs": [
    {
     "name": "stdout",
     "output_type": "stream",
     "text": [
      "a=1\n",
      "b=-70\n",
      "c=600\n",
      "Дискриминант больше нуля, есть 2 корня: 60.0 10.0\n"
     ]
    }
   ],
   "source": [
    "a = float(input(\"a=\"))\n",
    "b = float(input(\"b=\"))\n",
    "c = float(input(\"c=\"))\n",
    "\n",
    "#a*x**2 + b*x + c == 0\n",
    "\n",
    "discriminant = b**2 - 4*a*c\n",
    "\n",
    "x1 = (-b+(discriminant**(1/2)))/(2*a)\n",
    "x2 = (-b-(discriminant**(1/2)))/(2*a)\n",
    "x_0 = -b/(2*a)\n",
    "\n",
    "if discriminant > 0:\n",
    "    print(\"Дискриминант больше нуля, есть 2 корня:\", x1, x2)\n",
    "    \n",
    "elif discriminant == 0:\n",
    "    print(\"Дискриминант равен нулю, есть 1 корень:\", x_0)\n",
    "\n",
    "else:\n",
    "    print (\"Корней нет!\")\n"
   ]
  },
  {
   "cell_type": "markdown",
   "metadata": {},
   "source": [
    "9. Вводится целое число. Выведите его на экран и допишите к нему слова «рубль», «рубля» или «рублей» в зависимости от значения. Алгоритм:\n",
    "\n",
    "исключение: если число оканчивается на 11, 12, 13 или 14, добавляем слово «рублей»;\n",
    "\n",
    "если число оканчивается на 1, добавляем слово «рубль»;\n",
    "\n",
    "если число оканчивается на 2, 3 или 4, добавляем слово «рубля»;\n",
    "\n",
    "если число оканчивается на цифры 5, 6, 7, 8, 9 или 0, добавляем слово «рублей»."
   ]
  },
  {
   "cell_type": "code",
   "execution_count": 6,
   "metadata": {},
   "outputs": [
    {
     "name": "stdout",
     "output_type": "stream",
     "text": [
      "Вы ввели: 22\n",
      "рубля\n"
     ]
    }
   ],
   "source": [
    "nominal = int(input(\"Вы ввели: \"))\n",
    "\n",
    "if (nominal % 10) == 1:\n",
    "    print(\"рубль\")\n",
    "elif 2 <= (nominal % 10) <= 4:\n",
    "    print(\"рубля\")\n",
    "elif (nominal % 100) in (11, 12, 13, 14):\n",
    "    print(\"рублей\")\n",
    "else:\n",
    "    print(\"рублей\")"
   ]
  },
  {
   "cell_type": "markdown",
   "metadata": {},
   "source": [
    "10. Пользователь поочередно вводит координаты точки в декартовой системе координат. Определить, какой четверти принадлежит данная точка или на какой оси она находится. Расположение точки вывести на экран. Найти произведение номера четверти на расстояние от этой точки до начала координат и вывести его на экран. Если точка лежит на оси, считать, что номер четверти равен 0."
   ]
  },
  {
   "cell_type": "code",
   "execution_count": 45,
   "metadata": {},
   "outputs": [
    {
     "name": "stdout",
     "output_type": "stream",
     "text": [
      "x =-9\n",
      "y =-8\n",
      "III-четверть\n"
     ]
    }
   ],
   "source": [
    "x = int(input(\"x =\"))\n",
    "y = int(input(\"y =\"))\n",
    "\n",
    "if x>0 and y>0:\n",
    "    print('I-четверть') #В первую четверть попадают точки, у которых обе координаты (x и y) больше нуля\n",
    "elif x<0 and y>0:\n",
    "    print('II-четверть') #Во вторую: x < 0, y > 0\n",
    "elif x<0 and y<0:\n",
    "    print('III-четверть') #\n",
    "else: #x>0 and y<0:\n",
    "    print('IV-четверть')"
   ]
  },
  {
   "cell_type": "markdown",
   "metadata": {},
   "source": [
    "11. Выведите значение заданного целого числа от 0 до 999 прописью. Например, «сто девяносто один» для числа 191, «одиннадцать» для числа 11."
   ]
  },
  {
   "cell_type": "code",
   "execution_count": 11,
   "metadata": {},
   "outputs": [
    {
     "name": "stdout",
     "output_type": "stream",
     "text": [
      "897\n",
      "Результат: восемьсот девяносто семь\n"
     ]
    }
   ],
   "source": [
    "def int_to_text(number):\n",
    "\n",
    "    numbers_dict = {\n",
    "        0: 'ноль', 1: 'один', 2: 'два', 3: 'три', 4: 'четыре',\n",
    "        5: 'пять', 6: 'шесть', 7: 'семь', 8: 'восемь', 9: 'девять',\n",
    "        10: 'десять', 11: 'одиннадцать', 12: 'двенадцать', 13: 'тринадцать', 14: 'четырнадцать',\n",
    "        15: 'пятнадцать', 16: 'шестнадцать', 17: 'семнадцать', 18: 'восемнадцать', 19: 'девятнадцать',\n",
    "        20: 'двадцать', 30: 'тридцать', 40: 'сорок', 50: 'пятьдесят', 60: 'шестьдесят',\n",
    "        70: 'семьдесят', 80: 'восемьдесят', 90: 'девяносто',\n",
    "        100: 'сто', 200: 'двести', 300: 'триста', 400: 'четыреста', 500: 'пятьсот',\n",
    "        600: 'шестьсот', 700: 'семьсот', 800: 'восемьсот', 900: 'девятьсот'\n",
    "    }\n",
    "\n",
    "    # number - передаваемый аргумент в нашу функцию\n",
    "    if number in numbers_dict:\n",
    "        return numbers_dict[number]\n",
    "    \n",
    "    elif 0 < number < 1000:\n",
    "        hundreds = number // 100 * 100 #то есть если мы ввели 623, 623 // 100, то получим 6 и умножив на 100, получим сотни\n",
    "        remainder = number % 100 #здесь мы находим то, что осталось от сотни, то есть 623%100 = 23\n",
    "        \n",
    "        if remainder == 0:\n",
    "            return numbers_dict[hundreds] #Если остаток равен 0, то функция возвращает 'шестьсот').\n",
    "        \n",
    "        elif remainder < 20:\n",
    "            return f\"{numbers_dict[hundreds]} {numbers_dict[remainder]}\"\n",
    "        \n",
    "        else:\n",
    "            tens = remainder // 10 * 10 #по тому же принципу считаем десятки из остатка remainder 23//10 = 2 * 10 = 20!\n",
    "            ones = remainder % 10 #получим 3, то есть последнюю цифру\n",
    "            \n",
    "            if ones == 0:\n",
    "                return f\"{numbers_dict[hundreds]} {numbers_dict[tens]}\"\n",
    "            else:\n",
    "                return f\"{numbers_dict[hundreds]} {numbers_dict[tens]} {numbers_dict[ones]}\"\n",
    "    else:\n",
    "        return \"Число вне диапазона (1-999)\"\n",
    "\n",
    "#number = 523\n",
    "number = int(input())\n",
    "result = int_to_text(number)\n",
    "print(\"Результат:\", result)"
   ]
  },
  {
   "cell_type": "markdown",
   "metadata": {},
   "source": [
    "12. Вычислите значение выражения, которое состоит из целых чисел и знаков «+» и «-». Выражение вводится как символьная строка."
   ]
  },
  {
   "cell_type": "code",
   "execution_count": 109,
   "metadata": {},
   "outputs": [
    {
     "name": "stdout",
     "output_type": "stream",
     "text": [
      "Введите строку: 12+3+6\n",
      "Результат: 21\n"
     ]
    }
   ],
   "source": [
    "s = input(\"Введите строку: \")\n",
    "\n",
    "operators = ['+', '-', '*', '/']\n",
    "\n",
    "# для первого оператора между а и б\n",
    "for f in s:\n",
    "    if f in operators:\n",
    "        operator1 = f\n",
    "        n = s.find(f)\n",
    "        s1 = s[:n]\n",
    "        s2 = s[n + 1:]\n",
    "        break\n",
    "\n",
    "# для второго оператора между а, б и с\n",
    "for z in s2:\n",
    "    if z in operators:\n",
    "        operator2 = z\n",
    "        m = s2.find(z)\n",
    "        s3 = s2[:m]\n",
    "        s4 = s2[m + 1:]\n",
    "        break\n",
    "\n",
    "a, b, c = int(s1), int(s3), int(s4)\n",
    "\n",
    "# Perform calculations based on operators\n",
    "if operator1 == \"+\":\n",
    "    if operator2 == \"+\":\n",
    "        result = a + b + c\n",
    "    elif operator2 == \"-\":\n",
    "        result = a + b - c\n",
    "    elif operator2 == \"*\":\n",
    "        result = a + b * c\n",
    "    elif operator2 == \"/\":\n",
    "        result = a + b // c\n",
    "\n",
    "elif operator1 == \"-\":\n",
    "    if operator2 == \"+\":\n",
    "        result = a - b + c\n",
    "    elif operator2 == \"-\":\n",
    "        result = a - b - c\n",
    "    elif operator2 == \"*\":\n",
    "        result = a - b * c\n",
    "    elif operator2 == \"/\":\n",
    "        result = a - b // c\n",
    "\n",
    "elif operator1 == \"*\":\n",
    "    if operator2 == \"+\":\n",
    "        result = a * b + c\n",
    "    elif operator2 == \"-\":\n",
    "        result = a * b - c\n",
    "    elif operator2 == \"*\":\n",
    "        result = a * b * c\n",
    "    elif operator2 == \"/\":\n",
    "        result = a * b // c\n",
    "\n",
    "elif operator1 == \"/\":\n",
    "    if operator2 == \"+\":\n",
    "        result = a // b + c\n",
    "    elif operator2 == \"-\":\n",
    "        result = a // b - c\n",
    "    elif operator2 == \"*\":\n",
    "        result = a // b * c\n",
    "    elif operator2 == \"/\":\n",
    "        result = a // b // c\n",
    "\n",
    "print(\"Результат:\", result)"
   ]
  },
  {
   "cell_type": "markdown",
   "metadata": {},
   "source": [
    "13. Пользователь поочередно вводит 2 строки. Определите, какая строка длиннее и на сколько символов, а какая строка стоит раньше в лексикографическом порядке. Собрать результирующую строку, которая бы содержала 1 и 2 строки, разделенные переносом строки.    "
   ]
  },
  {
   "cell_type": "code",
   "execution_count": 90,
   "metadata": {},
   "outputs": [
    {
     "name": "stdout",
     "output_type": "stream",
     "text": [
      "Введите первую строку: Привет, мир!\n",
      "Введите вторую строку: Привет, Имир!\n",
      "Сравнение по длине:\n",
      "Вторая строка длиннее на 1 символов!\n",
      "Сравнение по лексикографическому порядку:\n",
      "Вторая строка идет раньше в лексикографическом порядке.\n"
     ]
    }
   ],
   "source": [
    "str1 = input(\"Введите первую строку: \")\n",
    "str2 = input(\"Введите вторую строку: \")\n",
    "\n",
    "symb1 = len(str1) - len(str2)\n",
    "symb2 = len(str2) - len(str1)\n",
    "         \n",
    "if len(str1) > len(str2): \n",
    "    length_str = f\"Первая строка длиннее на {symb1} символов!\"\n",
    "elif len(str1) < len(str2): \n",
    "    length_str = f\"Вторая строка длиннее на {symb2} символов!\"\n",
    "else: \n",
    "    length_str = \"В них одинаковое количество символов!\"\n",
    "\n",
    "if str1 < str2:\n",
    "    lexiс_order = \"Первая строка идет раньше в лексикографическом порядке.\"\n",
    "elif str2 < str1:\n",
    "    lexiс_order = \"Вторая строка идет раньше в лексикографическом порядке.\"\n",
    "else:\n",
    "    lexiс_order = \"Обе строки идентичны в лексикографическом порядке.\"\n",
    "\n",
    "print(f\"Сравнение по длине:\\n{length_str}\\nСравнение по лексикографическому порядку:\\n{lexiс_order}\") \n"
   ]
  },
  {
   "cell_type": "markdown",
   "metadata": {},
   "source": [
    "The first law of thermodynamics is a formulation of the law of conservation of energy in the context of thermodynamic processes in which two principle forms of energy transfer, heat and thermodynamic work, are distinguished that modify a thermodynamic system of a constant amount of matter."
   ]
  },
  {
   "cell_type": "markdown",
   "metadata": {},
   "source": [
    "14. Реализовать калькулятор, который принимает от пользователя через пробел строку следующего вида: «a op b», где a и b – некоторые числа, а ‘op’ определяет оператор и может принимать значения  «+,−,∗,/,∗∗,. В зависимости от оператора с помощью форматирования строк вывести результат в виде: «a + b = 3 + 2 = 5», где была получена строка «3 + 2». Для операций возведения в степень и деления по модулю использовать вместо знака оператора соответствующие выражения. Например, для строки «2 ** 3» должно быть выведено «a в степени b = 2 в степени 3 = 8»."
   ]
  },
  {
   "cell_type": "code",
   "execution_count": 125,
   "metadata": {},
   "outputs": [
    {
     "name": "stdout",
     "output_type": "stream",
     "text": [
      "Введите выражение (a op b): 1 + 5 \n",
      "1 + 5 = 1 + 5 = 6\n"
     ]
    }
   ],
   "source": [
    "str1 = input(\"Введите выражение (a op b): \")\n",
    "\n",
    "# Разделяем строку на операнды и оператор\n",
    "operands = str1.split()\n",
    "a = int(operands[0])\n",
    "b = int(operands[2])\n",
    "operator = operands[1]\n",
    "\n",
    "# Инициализируем переменную для результата\n",
    "result = None\n",
    "\n",
    "# Выполняем операции в зависимости от оператора\n",
    "if operator == \"+\":\n",
    "    result = a + b\n",
    "    operator_str = \"+\"\n",
    "elif operator == \"-\":\n",
    "    result = a - b\n",
    "    operator_str = \"-\"\n",
    "elif operator == \"*\":\n",
    "    result = a * b\n",
    "    operator_str = \"*\"\n",
    "elif operator == \"/\":\n",
    "    result = a / b\n",
    "    operator_str = \"/\"\n",
    "elif operator == \"**\":\n",
    "    result = a ** b\n",
    "    operator_str = \"в степени\"\n",
    "elif operator == \"%\":\n",
    "    result = a % b\n",
    "    operator_str = \"по модулю\"\n",
    "\n",
    "# Выводим результат в заданном формате\n",
    "if result is not None:\n",
    "    print(f\"{a} {operator_str} {b} = {a} {operator_str} {b} = {result}\")"
   ]
  },
  {
   "cell_type": "markdown",
   "metadata": {},
   "source": [
    "15. Напишите программу, которая в зависимости от введенного пользователем числа N, осуществляет вывод N кошек на экран. Пусть 1<= N <=10. Примечание: кошки при N=3 выглядят примерно так\n",
    "\n",
    " /\\__/\\ /\\__/\\ /\\__/\\\n",
    " /@ @\\ /@ @\\ /@ @\\\n",
    " (~~0~~) (~~0~~) (~~0~~)"
   ]
  },
  {
   "cell_type": "code",
   "execution_count": 1,
   "metadata": {},
   "outputs": [
    {
     "name": "stdout",
     "output_type": "stream",
     "text": [
      "Введите количество кошек (1-10): 8\n",
      "\n",
      " /\\__/\\ \n",
      " />  <\\ \n",
      " ( '' ) \n",
      "\n",
      "\n",
      " /\\__/\\ \n",
      " />  <\\ \n",
      " ( '' ) \n",
      "\n",
      "\n",
      " /\\__/\\ \n",
      " />  <\\ \n",
      " ( '' ) \n",
      "\n",
      "\n",
      " /\\__/\\ \n",
      " />  <\\ \n",
      " ( '' ) \n",
      "\n",
      "\n",
      " /\\__/\\ \n",
      " />  <\\ \n",
      " ( '' ) \n",
      "\n",
      "\n",
      " /\\__/\\ \n",
      " />  <\\ \n",
      " ( '' ) \n",
      "\n",
      "\n",
      " /\\__/\\ \n",
      " />  <\\ \n",
      " ( '' ) \n",
      "\n",
      "\n",
      " /\\__/\\ \n",
      " />  <\\ \n",
      " ( '' ) \n",
      "\n"
     ]
    }
   ],
   "source": [
    "def draw_cat():\n",
    "    cat = r'''\n",
    " /\\__/\\ \n",
    " />  <\\ \n",
    " ( '' ) \n",
    "'''\n",
    "    return cat\n",
    "\n",
    "while True:\n",
    "    # Ввод числа N от пользователя (1 <= N <= 10)\n",
    "    N = int(input(\"Введите количество кошек (1-10): \"))\n",
    "    if 1 <= N <= 10:\n",
    "        break\n",
    "    else:\n",
    "        print(\"Число должно быть от 1 до 10.\")\n",
    "\n",
    "# Вывод N кошек на экран\n",
    "for _ in range(N):\n",
    "    print(draw_cat())"
   ]
  },
  {
   "cell_type": "markdown",
   "metadata": {},
   "source": [
    "16. Имеются два n – мерных вектора x и y, которые задают координаты n точек на плоскости (случайные целые числа). Найти наиболее близкие друг другу точки."
   ]
  },
  {
   "cell_type": "code",
   "execution_count": 126,
   "metadata": {},
   "outputs": [
    {
     "name": "stdout",
     "output_type": "stream",
     "text": [
      "Ближайшие точки: (1, 4)\n",
      "Расстояние между ними: 24.698178070456937\n"
     ]
    }
   ],
   "source": [
    "import random #импортируем модуль random, который предоставляет функции для генерации случайных чисел\n",
    "\n",
    "def distance(a, b):\n",
    "    return ((a[0] - b[0]) ** 2 + (a[1] - b[1]) ** 2) ** 0.5 #расчет ближайшего расстояния между точками\n",
    "\n",
    "n = 5 #n - это будет наш диапазон чисел\n",
    "x, y = [], []   # пустые списки x и y, в которые будут доабвлены точки a и b\n",
    "\n",
    "for i in range(n):\n",
    "    x.append(random.randint(1, 100)) # 5 случайных точек с координатами (x, y), где x и y - случайные числа от 1 до 100\n",
    "    y.append(random.randint(1, 100))\n",
    "\n",
    "closest_pair = None\n",
    "min_distance = float('inf')\n",
    "\n",
    "for i in range(n):\n",
    "    for j in range(i+1, n):\n",
    "        d = distance([x[i], y[i]], [x[j], y[j]]) # используем функцию, чтобы вычислить расстояние между точками\n",
    "        if d < min_distance: # если это найденное расстояние меньше бесконечности\n",
    "            min_distance, closest_pair = d, (i, j) #тогда min_distance примет значение d, а closest_pair - i-х и j-х точек\n",
    "\n",
    "print(\"Ближайшие точки:\", closest_pair)\n",
    "print(\"Расстояние между ними:\", min_distance)"
   ]
  },
  {
   "cell_type": "markdown",
   "metadata": {},
   "source": [
    "17. Из множества целых чисел от 1 до N выделить множество N2 числа, кратные 2, множество N3 – кратные 3, множество N 6 – кратные 6 (т.е. кратные и 2 и 3), множество N 23 – кратные либо 2, либо 3."
   ]
  },
  {
   "cell_type": "markdown",
   "metadata": {},
   "source": [
    "Множество - это неупорядоченная и неиндексированная коллекция. Элементы множества неупорядочены, неизменяемы и не допускают повторяющихся значений. На элемент множества нельзя сослаться по индексу. Мы не можем изменять значения элементов множества, но можем добавлять новые элементы. В множестве не может быть двух элементов с одинаковыми значениями. Для множества используются фигурные скобки.\n",
    "\n",
    "Элементы множества могут быть любого типа"
   ]
  },
  {
   "cell_type": "code",
   "execution_count": 127,
   "metadata": {},
   "outputs": [
    {
     "name": "stdout",
     "output_type": "stream",
     "text": [
      "Введите целое число N: 10\n",
      "Множество N2 (кратные 2): {2, 4, 6, 8, 10}\n",
      "Множество N3 (кратные 3): {9, 3, 6}\n",
      "Множество N6 (кратные 6): {1000}\n",
      "Множество N23 (кратные 2 или 3): {2, 3, 4, 6, 8, 9, 10}\n"
     ]
    }
   ],
   "source": [
    "N = int(input(\"Введите целое число N: \"))\n",
    "\n",
    "set_N2 = set()\n",
    "set_N3 = set()\n",
    "set_N6 = set()\n",
    "set_N23 = set()\n",
    "\n",
    "\n",
    "for num in range(1, N + 1):\n",
    "    if num % 2 == 0:\n",
    "        set_N2.add(num)\n",
    "    if num % 3 == 0:\n",
    "        set_N3.add(num)\n",
    "    if num % 2 == 0 and num % 3 == 0:\n",
    "        set_N6.add(number)\n",
    "    if num % 2 == 0 or num % 3 == 0:\n",
    "        set_N23.add(num)\n",
    "\n",
    "\n",
    "print(\"Множество N2 (кратные 2):\", set_N2)\n",
    "print(\"Множество N3 (кратные 3):\", set_N3)\n",
    "print(\"Множество N6 (кратные 6):\", set_N6)\n",
    "print(\"Множество N23 (кратные 2 или 3):\", set_N23)"
   ]
  },
  {
   "cell_type": "markdown",
   "metadata": {},
   "source": [
    "18. Даны m (m>1) слов. Найти общее количество заданной буквы в этих словах."
   ]
  },
  {
   "cell_type": "code",
   "execution_count": 121,
   "metadata": {},
   "outputs": [
    {
     "name": "stdout",
     "output_type": "stream",
     "text": [
      "Общее количество букв a в словах: 3\n"
     ]
    }
   ],
   "source": [
    "def count(words, letter): #напишем функцию, в которую передаём два арумента words и letter\n",
    "    count = 0\n",
    "    for word in words: #первый цикл перебирает слова в списке words\n",
    "        for char in word: #второй цикл перебирает символы в каждом слове\n",
    "            if char == letter: #равен ли текущий символ (char) заданной букве (letter)\n",
    "                count += 1\n",
    "    return count\n",
    "\n",
    "# Пример вызова функции с данными\n",
    "words = ['anger', 'armchair', 'burn', 'law ', 'cannot']\n",
    "letter_to_count = 'a'\n",
    "total_count = count(words, letter_to_count)\n",
    "print(f'Общее количество букв {letter_to_count} в словах: {total_count}')\n",
    "\n",
    "#Внутри второго цикла проверяется, . Если символ совпадает с буквой, то переменная count увеличивается на 1."
   ]
  },
  {
   "cell_type": "markdown",
   "metadata": {},
   "source": [
    "19. Даны m (m>1) слов. В каком из них доля (в %) заданной буквы больше.\n",
    "\n",
    "Алгоритм выполнения:\n",
    "\n",
    "**1) Определение функции find_word_with_highest_percentage:\n",
    "\n",
    "Принимает два параметра: word_list (список слов) и target_letter (буква, для которой мы ищем наибольшую долю).\n",
    "\n",
    "**2) Инициализация переменных:\n",
    "\n",
    "max_percentage и word_with_max_percentage инициализируются нулевыми значениями. Эти переменные будут использоваться для хранения наивысшей найденной доли и соответствующего слова.\n",
    "\n",
    "**3) Итерация по каждому слову в word_list:\n",
    "\n",
    "for word in word_list: Проходим по каждому слову в списке word_list.\n",
    "\n",
    "**4) Вычисление доли для текущего слова:\n",
    "\n",
    "total_letters - определяет общее количество букв в текущем слове с помощью метода len() - подсчета длины строки\n",
    "letter_count - считает, сколько раз target_letter встречается в текущем слове с  помощью метода count() - он используется для подсчета количества вхождений указанного элемента в последовательности.\n",
    "percentage - вычисляет долю данной буквы в текущем слове в процентах.\n",
    "\n",
    "**5) Сравнение с максимальной долей:\n",
    "\n",
    "Проверяет, является ли текущая доля (percentage) больше максимальной найденной доли (max_percentage).\n",
    "Если да, обновляет max_percentage и word_with_max_percentage для отражения новой максимальной доли и соответствующего слова."
   ]
  },
  {
   "cell_type": "code",
   "execution_count": 114,
   "metadata": {},
   "outputs": [
    {
     "name": "stdout",
     "output_type": "stream",
     "text": [
      "Слово с наибольшей долей буквы \"a\": banana, Доля: 50.0%\n"
     ]
    }
   ],
   "source": [
    "def find_word_with_highest_percentage(word_list, target_letter):\n",
    "    max_percentage = 0\n",
    "    word_with_max_percentage = \"\"\n",
    "\n",
    "    for word in word_list:\n",
    "        # Считаем количество букв в слове\n",
    "        total_letters = len(word)\n",
    "        # Считаем, сколько раз буква встречается в слове\n",
    "        letter_count = word.count(target_letter)\n",
    "        # Вычисляем долю (в %)\n",
    "        percentage = (letter_count / total_letters) * 100\n",
    "\n",
    "        if percentage > max_percentage:\n",
    "            max_percentage = percentage\n",
    "            word_with_max_percentage = word\n",
    "\n",
    "    return word_with_max_percentage\n",
    "\n",
    "# Пример использования\n",
    "word_list = [\"apple\", \"banana\", \"cherry\", \"date\"]\n",
    "target_letter = \"a\"\n",
    "result_word = find_word_with_highest_percentage(word_list, target_letter)\n",
    "\n",
    "print(f\"The word with the highest percentage of '{target_letter}' is '{result_word}'\")"
   ]
  }
 ],
 "metadata": {
  "kernelspec": {
   "display_name": "Python 3 (ipykernel)",
   "language": "python",
   "name": "python3"
  },
  "language_info": {
   "codemirror_mode": {
    "name": "ipython",
    "version": 3
   },
   "file_extension": ".py",
   "mimetype": "text/x-python",
   "name": "python",
   "nbconvert_exporter": "python",
   "pygments_lexer": "ipython3",
   "version": "3.11.4"
  },
  "toc": {
   "base_numbering": 1,
   "nav_menu": {},
   "number_sections": true,
   "sideBar": true,
   "skip_h1_title": false,
   "title_cell": "Table of Contents",
   "title_sidebar": "Contents",
   "toc_cell": true,
   "toc_position": {},
   "toc_section_display": true,
   "toc_window_display": false
  },
  "varInspector": {
   "cols": {
    "lenName": 16,
    "lenType": 16,
    "lenVar": 40
   },
   "kernels_config": {
    "python": {
     "delete_cmd_postfix": "",
     "delete_cmd_prefix": "del ",
     "library": "var_list.py",
     "varRefreshCmd": "print(var_dic_list())"
    },
    "r": {
     "delete_cmd_postfix": ") ",
     "delete_cmd_prefix": "rm(",
     "library": "var_list.r",
     "varRefreshCmd": "cat(var_dic_list()) "
    }
   },
   "types_to_exclude": [
    "module",
    "function",
    "builtin_function_or_method",
    "instance",
    "_Feature"
   ],
   "window_display": false
  }
 },
 "nbformat": 4,
 "nbformat_minor": 4
}
