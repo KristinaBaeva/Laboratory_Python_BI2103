{
 "cells": [
  {
   "cell_type": "markdown",
   "id": "75ba224b",
   "metadata": {
    "toc": true
   },
   "source": [
    "<h1>Table of Contents<span class=\"tocSkip\"></span></h1>\n",
    "<div class=\"toc\"><ul class=\"toc-item\"></ul></div>"
   ]
  },
  {
   "cell_type": "markdown",
   "id": "edbef882",
   "metadata": {},
   "source": [
    "<p style=\"font-size:125%; color:#119988; background-color:#EEE\">Задание 1</p>\n",
    "\n",
    "Создайте словарь *food* продуктов питания, ключами которого являются наименования, а значениями цены. Исходные данные для словаря:\n",
    "```\n",
    "titles=('apples,grape,bananas,watermelons,tomatoes'.split(','))\n",
    "prices=(20,25,15,11,15)\n",
    "```"
   ]
  },
  {
   "cell_type": "code",
   "execution_count": 46,
   "id": "7befff06",
   "metadata": {},
   "outputs": [
    {
     "name": "stdout",
     "output_type": "stream",
     "text": [
      "{'apples': 20, ' grape': 25, ' bananas': 15, ' watermelons': 11, ' tomatoes': 15}\n"
     ]
    }
   ],
   "source": [
    "# 1\n",
    "\n",
    "titles = ('apples, grape, bananas, watermelons, tomatoes'.split(','))\n",
    "prices = (20, 25, 15, 11, 15)\n",
    "\n",
    "food = dict(zip(titles, prices))\n",
    "print(food)"
   ]
  },
  {
   "cell_type": "markdown",
   "id": "815e7957",
   "metadata": {},
   "source": [
    "<p style=\"font-size:125%; color:#119988; background-color:#EEE\">Задание 2</p>\n",
    "\n",
    "Удалите из словаря *food* арбузы (watermelons) и добавьте дыни (melons) по той же цене."
   ]
  },
  {
   "cell_type": "code",
   "execution_count": 44,
   "id": "50964e18",
   "metadata": {},
   "outputs": [
    {
     "name": "stdout",
     "output_type": "stream",
     "text": [
      "{'apples': 20, 'grape': 25, 'bananas': 15, 'tomatoes': 15}\n"
     ]
    }
   ],
   "source": [
    "# 2\n",
    "food.pop('watermelons')\n",
    "print(food)"
   ]
  },
  {
   "cell_type": "code",
   "execution_count": 26,
   "id": "c30a5238",
   "metadata": {},
   "outputs": [
    {
     "name": "stdout",
     "output_type": "stream",
     "text": [
      "{'apples': 20, ' grape': 25, ' bananas': 15, ' watermelons': 11, ' tomatoes': 15, 'melons': 11}\n"
     ]
    }
   ],
   "source": [
    "food['melons'] = 11\n",
    "print(food)"
   ]
  },
  {
   "cell_type": "markdown",
   "id": "09da5372",
   "metadata": {},
   "source": [
    "<p style=\"font-size:125%; color:#119988; background-color:#EEE\">Задание 3</p>\n",
    "\n",
    "Все цены снижены на 15%. Обновите словарь продуктов."
   ]
  },
  {
   "cell_type": "code",
   "execution_count": 27,
   "id": "b88d99a1",
   "metadata": {},
   "outputs": [
    {
     "name": "stdout",
     "output_type": "stream",
     "text": [
      "{'apples': 17.0, ' grape': 21.25, ' bananas': 12.75, ' watermelons': 9.35, ' tomatoes': 12.75, 'melons': 9.35}\n"
     ]
    }
   ],
   "source": [
    "# 3\n",
    "for title, price in food.items():\n",
    "    new_price = price * 0.85\n",
    "    food[title] = new_price\n",
    "print(food)"
   ]
  },
  {
   "cell_type": "markdown",
   "id": "ea04b336",
   "metadata": {},
   "source": [
    "<p style=\"font-size:125%; color:#119988; background-color:#EEE\">Задание 4</p>\n",
    "\n",
    "Поменяйте местами цены и названия, пусть ключами словаря станут цены, а значениями - названия. Изменилось ли при этом количество элементов словаря? Если да, то объясните, почему."
   ]
  },
  {
   "cell_type": "code",
   "execution_count": 31,
   "id": "e035b4cb",
   "metadata": {},
   "outputs": [
    {
     "name": "stdout",
     "output_type": "stream",
     "text": [
      "{17.0: 'apples', 21.25: ' grape', 12.75: ' tomatoes', 9.35: 'melons'}\n"
     ]
    }
   ],
   "source": [
    "#4\n",
    "food = dict(zip(food.values(), food.keys()))\n",
    "print (food)"
   ]
  },
  {
   "cell_type": "markdown",
   "id": "ef49adb3",
   "metadata": {},
   "source": [
    "<p style=\"font-size:125%; color:#119988; background-color:#EEE\">Задание 5</p>\n",
    "\n",
    "Напишите функцию, возвращающую максимальную степень некоторого натурального числа $k$ (например $k=2$), меньшую данного натурального числа $n$. Пусть $k$ и $n$ будут параметрами функции."
   ]
  },
  {
   "cell_type": "code",
   "execution_count": 6,
   "id": "a56f047a",
   "metadata": {},
   "outputs": [
    {
     "name": "stdout",
     "output_type": "stream",
     "text": [
      "Максимальная степень 6, меньшая чем 250: 3\n"
     ]
    }
   ],
   "source": [
    "# 5\n",
    "def func(k, n):\n",
    "    exponent = 0\n",
    "\n",
    "    # Пока k в степени exponent меньше n, увеличиваем степень на 1\n",
    "    while k ** exponent < n:\n",
    "        exponent += 1\n",
    "\n",
    "    # Уменьшаем степень на 1, чтобы получить максимальную степень меньше n\n",
    "    exponent -= 1 if exponent > 0 else 0\n",
    "\n",
    "    return exponent\n",
    "\n",
    "# Пример использования\n",
    "k_number = 6\n",
    "n_number = 250\n",
    "result = func(k_number, n_number)\n",
    "print(f\"Максимальная степень {k_number}, меньшая чем {n_number}: {result}\")\n"
   ]
  },
  {
   "cell_type": "markdown",
   "id": "dafc63f5",
   "metadata": {},
   "source": [
    "<p style=\"font-size:125%; color:#119988; background-color:#EEE\">Задание 6</p>\n",
    "\n",
    "Создайте функцию, возвращающую ряд Фибоначчи до определенного натурального числа $n$.\n",
    "\n",
    "Числа Фибоначчи - последовательность, в которой первые два числа равны 0 и 1, а каждое последующее число равно сумме двух предыдущих чисел"
   ]
  },
  {
   "cell_type": "code",
   "execution_count": 2,
   "id": "de7f401f",
   "metadata": {},
   "outputs": [
    {
     "name": "stdout",
     "output_type": "stream",
     "text": [
      "Ряд Фибоначчи до 22: [0, 1, 1, 2, 3, 5, 8, 13, 21]\n"
     ]
    }
   ],
   "source": [
    "# 6\n",
    "def fibonacci_rate(n): # n - число, до которого нужно построить ряд Фибоначчи.\n",
    "    rate = [0, 1] # инициализация списка rate с двумя первыми элементами ряда Фибоначчи (0 и 1)\n",
    "\n",
    "    while rate[-1] + rate[-2] <= n: #цикл выполняется до тех пор, пока сумма двух последних элементов ряда < или = числу n\n",
    "        rate.append(rate[-1] + rate[-2]) \n",
    "\n",
    "    return rate\n",
    "\n",
    "# Пример использования\n",
    "n_number = 22\n",
    "result_rate = fibonacci_rate(n_number)\n",
    "print(f\"Ряд Фибоначчи до {n_number}: {result_rate}\")\n"
   ]
  },
  {
   "cell_type": "markdown",
   "id": "119e660a",
   "metadata": {},
   "source": [
    "<p style=\"font-size:125%; color:#119988; background-color:#EEE\">Задание 7</p>\n",
    "\n",
    "Создайте рекурсивную функцию, возвращающую ряд Фибоначчи до определенного натурального числа $n$."
   ]
  },
  {
   "cell_type": "code",
   "execution_count": 47,
   "id": "31838c27",
   "metadata": {},
   "outputs": [
    {
     "name": "stdout",
     "output_type": "stream",
     "text": [
      "[0, 1, 1, 2, 3, 5, 8, 13, 21]\n"
     ]
    }
   ],
   "source": [
    "# 7\n",
    "def fibonacci_recurs(n, a = 0, b = 1, rate = []):\n",
    "    if a > n: #проверяем, если текущее число a в ряде Фибоначчи больше, чем n, то мы возвращаем список rate.\n",
    "        return rate\n",
    "    rate.append(a)\n",
    "    return fibonacci_recurs(n, b, a + b, rate) #Если условие не выполняется, екурсивно вызываем функцию fibonacci_recurs, передавая новые значения b и a + b\n",
    "\n",
    "n = 25 #определенное натуральное число\n",
    "result = fibonacci_recurs(n)\n",
    "print(result)"
   ]
  },
  {
   "cell_type": "markdown",
   "id": "ec8400ea",
   "metadata": {},
   "source": [
    "<p style=\"font-size:125%; color:#119988; background-color:#EEE\">Задание 8</p>\n",
    "\n",
    "Создайте функцию, которая проверяет, является ли число членом ряда Фибоначчи."
   ]
  },
  {
   "cell_type": "code",
   "execution_count": 6,
   "id": "a8715c73",
   "metadata": {},
   "outputs": [
    {
     "name": "stdout",
     "output_type": "stream",
     "text": [
      "1\n",
      "1 - это число Фибоначчи.\n"
     ]
    }
   ],
   "source": [
    "# 8\n",
    "def fibonacci(n): # n - число, которое мы хотим проверить\n",
    "    a, b = 0, 1 # это два первых члена последовательности Фибоначчи\n",
    "    while a < n:\n",
    "        a, b = b, a + b # следующий член последовательности Фибоначчи.\n",
    "    return a == n # возвращает True, если число n равно текущему значению a \n",
    "\n",
    "# Пример использования\n",
    "number = int(input())\n",
    "#number = 21\n",
    "if fibonacci(number):\n",
    "    print(f\"{number} - это число Фибоначчи.\")\n",
    "else:\n",
    "    print(f\"{number} - не является числом Фибоначчи.\")\n"
   ]
  },
  {
   "cell_type": "markdown",
   "id": "eed2994e",
   "metadata": {},
   "source": [
    "<p style=\"font-size:125%; color:#119988; background-color:#EEE\">Задание 9</p>\n",
    "\n",
    "Студентка Александра родилась 11 июня 2003 года в 12 часов дня. Рассчитать время в минутах с момента рождения."
   ]
  },
  {
   "cell_type": "code",
   "execution_count": 45,
   "id": "6d81786f",
   "metadata": {},
   "outputs": [
    {
     "name": "stdout",
     "output_type": "stream",
     "text": [
      "10745121\n"
     ]
    }
   ],
   "source": [
    "# 9\n",
    "from datetime import datetime\n",
    "\n",
    "birthdate = datetime(2003, 6, 11, 12, 0)\n",
    "current_date = datetime.now()\n",
    "\n",
    "today_difference = current_date - birthdate\n",
    "minutes = int(today_difference.total_seconds()/60)\n",
    "\n",
    "print(minutes)"
   ]
  }
 ],
 "metadata": {
  "kernelspec": {
   "display_name": "Python 3 (ipykernel)",
   "language": "python",
   "name": "python3"
  },
  "language_info": {
   "codemirror_mode": {
    "name": "ipython",
    "version": 3
   },
   "file_extension": ".py",
   "mimetype": "text/x-python",
   "name": "python",
   "nbconvert_exporter": "python",
   "pygments_lexer": "ipython3",
   "version": "3.11.4"
  },
  "toc": {
   "base_numbering": 1,
   "nav_menu": {},
   "number_sections": true,
   "sideBar": true,
   "skip_h1_title": false,
   "title_cell": "Table of Contents",
   "title_sidebar": "Contents",
   "toc_cell": true,
   "toc_position": {},
   "toc_section_display": true,
   "toc_window_display": false
  },
  "varInspector": {
   "cols": {
    "lenName": 16,
    "lenType": 16,
    "lenVar": 40
   },
   "kernels_config": {
    "python": {
     "delete_cmd_postfix": "",
     "delete_cmd_prefix": "del ",
     "library": "var_list.py",
     "varRefreshCmd": "print(var_dic_list())"
    },
    "r": {
     "delete_cmd_postfix": ") ",
     "delete_cmd_prefix": "rm(",
     "library": "var_list.r",
     "varRefreshCmd": "cat(var_dic_list()) "
    }
   },
   "types_to_exclude": [
    "module",
    "function",
    "builtin_function_or_method",
    "instance",
    "_Feature"
   ],
   "window_display": false
  }
 },
 "nbformat": 4,
 "nbformat_minor": 5
}
